{
 "cells": [
  {
   "cell_type": "markdown",
   "id": "fa78137e",
   "metadata": {},
   "source": [
    "###### EXERCISE 1\n",
    "What is the normal body temperature for healthy humans? \n",
    "A random sample of 130 healthy human body temperatures provided by Allen Shoemaker yielded 98.25 degrees and standard deviation 0.73 degrees. \n",
    "\r\n",
    "Give a 99% confidence interval for the average body temperature of healthy people."
   ]
  },
  {
   "cell_type": "code",
   "execution_count": 22,
   "id": "83f9d7cf",
   "metadata": {},
   "outputs": [],
   "source": [
    "# We don't know the population standart deviaton.So, we will use t distribution.\n",
    "    #stats.t.interval(alpha, df, loc, scale)\n",
    "        # alpha = confidence interval = 0.99\n",
    "        # df = degree of freedom = len(x) - 1 = 129\n",
    "        # loc = sample mean = 98.25\n",
    "        # scale = standart error of the mean(sem)\n",
    "            # sem = std(x) / np.sqrt(len(x))\n",
    "# std = 0.73, len= 130\n",
    "\n",
    "# Import libraries\n",
    "from scipy import stats\n",
    "import numpy as np"
   ]
  },
  {
   "cell_type": "code",
   "execution_count": 15,
   "id": "a51a22a6",
   "metadata": {},
   "outputs": [
    {
     "data": {
      "text/plain": [
       "0.06402523540941313"
      ]
     },
     "execution_count": 15,
     "metadata": {},
     "output_type": "execute_result"
    }
   ],
   "source": [
    "sem = 0.73 / np.sqrt(130)\n",
    "sem"
   ]
  },
  {
   "cell_type": "code",
   "execution_count": 16,
   "id": "ff1c0fa8",
   "metadata": {},
   "outputs": [
    {
     "data": {
      "text/plain": [
       "(98.08260738705933, 98.41739261294067)"
      ]
     },
     "execution_count": 16,
     "metadata": {},
     "output_type": "execute_result"
    }
   ],
   "source": [
    "stats.t.interval(0.99, df=129, loc=98.25, scale=sem)"
   ]
  },
  {
   "cell_type": "code",
   "execution_count": 4,
   "id": "b236e698",
   "metadata": {},
   "outputs": [],
   "source": [
    "# Also we want to check values for the z distribution."
   ]
  },
  {
   "cell_type": "code",
   "execution_count": 17,
   "id": "32d4a385",
   "metadata": {},
   "outputs": [
    {
     "data": {
      "text/plain": [
       "(98.08508192246582, 98.41491807753418)"
      ]
     },
     "execution_count": 17,
     "metadata": {},
     "output_type": "execute_result"
    }
   ],
   "source": [
    "stats.norm.interval(0.99, loc=98.25, scale=sem)"
   ]
  },
  {
   "cell_type": "markdown",
   "id": "62edb8c9",
   "metadata": {},
   "source": [
    "###### EXERCISE 2\n",
    "The administrators for a hospital wished to estimate the average number of days required for inpatient treatment of patients between the ages of 25 and 34. A random sample of 500 hospital patients between these ages produced a mean and standard deviation equal to 5.4 and 3.1 days, respectively.\r\n",
    "\r\n",
    "Construct a 95% confidence interval for the mean length of stay for the population of patients from which the sample was drawn.\n"
   ]
  },
  {
   "cell_type": "code",
   "execution_count": 18,
   "id": "92d94a4f",
   "metadata": {},
   "outputs": [],
   "source": [
    "# We don't know the population standart deviaton.So, we will use t distribution.\n",
    "    #stats.t.interval(alpha, df, loc, scale)\n",
    "        # alpha = confidence interval = 0.95\n",
    "        # df = degree of freedom = len(x) - 1 = 499\n",
    "        # loc = sample mean = 5.4\n",
    "        # scale = standart error of the mean(sem)\n",
    "            # sem = std(x) / np.sqrt(len(x))\n",
    "# std = 3.1, len = 500\n",
    "\n",
    "# Import libraries\n",
    "from scipy import stats\n",
    "import numpy as np"
   ]
  },
  {
   "cell_type": "code",
   "execution_count": 19,
   "id": "63f212f2",
   "metadata": {},
   "outputs": [
    {
     "data": {
      "text/plain": [
       "0.13863621460498696"
      ]
     },
     "execution_count": 19,
     "metadata": {},
     "output_type": "execute_result"
    }
   ],
   "source": [
    "sem = 3.1 / np.sqrt(500)\n",
    "sem"
   ]
  },
  {
   "cell_type": "code",
   "execution_count": 20,
   "id": "2dc448ac",
   "metadata": {},
   "outputs": [
    {
     "data": {
      "text/plain": [
       "(5.127617354510309, 5.672382645489692)"
      ]
     },
     "execution_count": 20,
     "metadata": {},
     "output_type": "execute_result"
    }
   ],
   "source": [
    "stats.t.interval(0.95, df=499, loc=5.4, scale=sem)"
   ]
  },
  {
   "cell_type": "code",
   "execution_count": 13,
   "id": "f2de0704",
   "metadata": {},
   "outputs": [],
   "source": [
    "# Also we want to check values for the z distribution."
   ]
  },
  {
   "cell_type": "code",
   "execution_count": 21,
   "id": "bd0527be",
   "metadata": {},
   "outputs": [
    {
     "data": {
      "text/plain": [
       "(5.12827801242126, 5.67172198757874)"
      ]
     },
     "execution_count": 21,
     "metadata": {},
     "output_type": "execute_result"
    }
   ],
   "source": [
    "stats.norm.interval(0.95, loc=5.4, scale=sem)"
   ]
  },
  {
   "cell_type": "markdown",
   "id": "da2bb22f-9e0c-470b-a8cf-80915c77272e",
   "metadata": {},
   "source": [
    "###### EXERCISE 3\n",
    "The hourly wages in a particular industry are normally distributed with mean $13.20 and standart deviation $2.50 \n",
    "A company in this industry employs 40 workers, paying them an average of $12.20 per hour. \n",
    "Can this company be accused of paying substandard wages? Use an α = .01 level test. (Wackerly, Ex.10.18)\r\n",
    "\r\n",
    "CHECK: statistic: -2.5298221281347035, pvalue= 0.005706018193000826\n"
   ]
  },
  {
   "cell_type": "code",
   "execution_count": 24,
   "id": "8290ee80-a6c4-4b23-80cd-1a42321d965e",
   "metadata": {},
   "outputs": [],
   "source": [
    "x_bar = 12.20 #sample mean\n",
    "n = 40 #number of samples\n",
    "sigma = 2.5 # sd of population\n",
    "alpha = 0.01\n",
    "mu = 13.20 #population mean"
   ]
  },
  {
   "cell_type": "code",
   "execution_count": null,
   "id": "9ed6c3d1-ca8e-448e-928f-0ca11fa51c99",
   "metadata": {},
   "outputs": [],
   "source": [
    "# bmi mean:\n",
    "# Ho: mu = 13.20\n",
    "# Ha: mu <13.20"
   ]
  },
  {
   "cell_type": "code",
   "execution_count": 25,
   "id": "21fa4f01-1f6a-46eb-8939-0c7a2503a9d3",
   "metadata": {},
   "outputs": [
    {
     "data": {
      "text/plain": [
       "0.3952847075210474"
      ]
     },
     "execution_count": 25,
     "metadata": {},
     "output_type": "execute_result"
    }
   ],
   "source": [
    "sem = sigma/np.sqrt(n)\n",
    "sem"
   ]
  },
  {
   "cell_type": "code",
   "execution_count": 26,
   "id": "d7a36d63-ae6e-438a-b8b0-344b8615728b",
   "metadata": {},
   "outputs": [
    {
     "data": {
      "text/plain": [
       "-21.346634304191557"
      ]
     },
     "execution_count": 26,
     "metadata": {},
     "output_type": "execute_result"
    }
   ],
   "source": [
    "12.30 - 13.30/sem"
   ]
  },
  {
   "cell_type": "markdown",
   "id": "9c16886c-8935-4faa-8609-1fef8b7b6e7d",
   "metadata": {},
   "source": [
    "###### EXERCISE 4\n",
    "Shear strength measurements derived from unconfined compression tests for two types of soils gave the results shown in the following document (measurements in tons per square foot). \n",
    "Do the soils appear to differ with respect to average shear strength, at the 1% significance level?\r\n",
    "\r\n",
    "Results for two type of soils\r\n",
    "\r\n",
    "CHECK: statistic: 5.1681473319343345, pvalue= 2.593228732352821e-06\n"
   ]
  },
  {
   "cell_type": "code",
   "execution_count": 42,
   "id": "0e23435b-39f0-4c35-a22d-c253370001ff",
   "metadata": {},
   "outputs": [
    {
     "data": {
      "text/html": [
       "<div>\n",
       "<style scoped>\n",
       "    .dataframe tbody tr th:only-of-type {\n",
       "        vertical-align: middle;\n",
       "    }\n",
       "\n",
       "    .dataframe tbody tr th {\n",
       "        vertical-align: top;\n",
       "    }\n",
       "\n",
       "    .dataframe thead th {\n",
       "        text-align: right;\n",
       "    }\n",
       "</style>\n",
       "<table border=\"1\" class=\"dataframe\">\n",
       "  <thead>\n",
       "    <tr style=\"text-align: right;\">\n",
       "      <th></th>\n",
       "      <th>Soil1</th>\n",
       "      <th>Soil2</th>\n",
       "    </tr>\n",
       "  </thead>\n",
       "  <tbody>\n",
       "    <tr>\n",
       "      <th>0</th>\n",
       "      <td>1.442</td>\n",
       "      <td>1.364</td>\n",
       "    </tr>\n",
       "    <tr>\n",
       "      <th>1</th>\n",
       "      <td>1.943</td>\n",
       "      <td>1.878</td>\n",
       "    </tr>\n",
       "    <tr>\n",
       "      <th>2</th>\n",
       "      <td>1.110</td>\n",
       "      <td>1.337</td>\n",
       "    </tr>\n",
       "    <tr>\n",
       "      <th>3</th>\n",
       "      <td>1.912</td>\n",
       "      <td>1.828</td>\n",
       "    </tr>\n",
       "    <tr>\n",
       "      <th>4</th>\n",
       "      <td>1.553</td>\n",
       "      <td>1.371</td>\n",
       "    </tr>\n",
       "    <tr>\n",
       "      <th>5</th>\n",
       "      <td>1.641</td>\n",
       "      <td>1.428</td>\n",
       "    </tr>\n",
       "    <tr>\n",
       "      <th>6</th>\n",
       "      <td>1.499</td>\n",
       "      <td>1.119</td>\n",
       "    </tr>\n",
       "    <tr>\n",
       "      <th>7</th>\n",
       "      <td>1.347</td>\n",
       "      <td>1.373</td>\n",
       "    </tr>\n",
       "    <tr>\n",
       "      <th>8</th>\n",
       "      <td>1.685</td>\n",
       "      <td>1.589</td>\n",
       "    </tr>\n",
       "    <tr>\n",
       "      <th>9</th>\n",
       "      <td>1.578</td>\n",
       "      <td>1.714</td>\n",
       "    </tr>\n",
       "    <tr>\n",
       "      <th>10</th>\n",
       "      <td>1.866</td>\n",
       "      <td>1.260</td>\n",
       "    </tr>\n",
       "    <tr>\n",
       "      <th>11</th>\n",
       "      <td>1.653</td>\n",
       "      <td>1.492</td>\n",
       "    </tr>\n",
       "    <tr>\n",
       "      <th>12</th>\n",
       "      <td>1.665</td>\n",
       "      <td>1.395</td>\n",
       "    </tr>\n",
       "    <tr>\n",
       "      <th>13</th>\n",
       "      <td>1.640</td>\n",
       "      <td>1.778</td>\n",
       "    </tr>\n",
       "    <tr>\n",
       "      <th>14</th>\n",
       "      <td>1.976</td>\n",
       "      <td>1.611</td>\n",
       "    </tr>\n",
       "    <tr>\n",
       "      <th>15</th>\n",
       "      <td>1.754</td>\n",
       "      <td>1.202</td>\n",
       "    </tr>\n",
       "    <tr>\n",
       "      <th>16</th>\n",
       "      <td>1.589</td>\n",
       "      <td>1.542</td>\n",
       "    </tr>\n",
       "    <tr>\n",
       "      <th>17</th>\n",
       "      <td>1.976</td>\n",
       "      <td>1.094</td>\n",
       "    </tr>\n",
       "    <tr>\n",
       "      <th>18</th>\n",
       "      <td>1.863</td>\n",
       "      <td>1.557</td>\n",
       "    </tr>\n",
       "    <tr>\n",
       "      <th>19</th>\n",
       "      <td>1.932</td>\n",
       "      <td>1.053</td>\n",
       "    </tr>\n",
       "    <tr>\n",
       "      <th>20</th>\n",
       "      <td>1.570</td>\n",
       "      <td>1.183</td>\n",
       "    </tr>\n",
       "    <tr>\n",
       "      <th>21</th>\n",
       "      <td>1.613</td>\n",
       "      <td>1.367</td>\n",
       "    </tr>\n",
       "    <tr>\n",
       "      <th>22</th>\n",
       "      <td>2.054</td>\n",
       "      <td>1.144</td>\n",
       "    </tr>\n",
       "    <tr>\n",
       "      <th>23</th>\n",
       "      <td>1.550</td>\n",
       "      <td>1.151</td>\n",
       "    </tr>\n",
       "    <tr>\n",
       "      <th>24</th>\n",
       "      <td>1.714</td>\n",
       "      <td>1.561</td>\n",
       "    </tr>\n",
       "    <tr>\n",
       "      <th>25</th>\n",
       "      <td>1.896</td>\n",
       "      <td>1.192</td>\n",
       "    </tr>\n",
       "    <tr>\n",
       "      <th>26</th>\n",
       "      <td>1.737</td>\n",
       "      <td>1.489</td>\n",
       "    </tr>\n",
       "    <tr>\n",
       "      <th>27</th>\n",
       "      <td>1.740</td>\n",
       "      <td>1.379</td>\n",
       "    </tr>\n",
       "    <tr>\n",
       "      <th>28</th>\n",
       "      <td>1.708</td>\n",
       "      <td>1.501</td>\n",
       "    </tr>\n",
       "    <tr>\n",
       "      <th>29</th>\n",
       "      <td>1.548</td>\n",
       "      <td>1.277</td>\n",
       "    </tr>\n",
       "    <tr>\n",
       "      <th>30</th>\n",
       "      <td>NaN</td>\n",
       "      <td>1.593</td>\n",
       "    </tr>\n",
       "    <tr>\n",
       "      <th>31</th>\n",
       "      <td>NaN</td>\n",
       "      <td>1.172</td>\n",
       "    </tr>\n",
       "    <tr>\n",
       "      <th>32</th>\n",
       "      <td>NaN</td>\n",
       "      <td>1.510</td>\n",
       "    </tr>\n",
       "    <tr>\n",
       "      <th>33</th>\n",
       "      <td>NaN</td>\n",
       "      <td>1.740</td>\n",
       "    </tr>\n",
       "    <tr>\n",
       "      <th>34</th>\n",
       "      <td>NaN</td>\n",
       "      <td>1.355</td>\n",
       "    </tr>\n",
       "  </tbody>\n",
       "</table>\n",
       "</div>"
      ],
      "text/plain": [
       "    Soil1  Soil2\n",
       "0   1.442  1.364\n",
       "1   1.943  1.878\n",
       "2   1.110  1.337\n",
       "3   1.912  1.828\n",
       "4   1.553  1.371\n",
       "5   1.641  1.428\n",
       "6   1.499  1.119\n",
       "7   1.347  1.373\n",
       "8   1.685  1.589\n",
       "9   1.578  1.714\n",
       "10  1.866  1.260\n",
       "11  1.653  1.492\n",
       "12  1.665  1.395\n",
       "13  1.640  1.778\n",
       "14  1.976  1.611\n",
       "15  1.754  1.202\n",
       "16  1.589  1.542\n",
       "17  1.976  1.094\n",
       "18  1.863  1.557\n",
       "19  1.932  1.053\n",
       "20  1.570  1.183\n",
       "21  1.613  1.367\n",
       "22  2.054  1.144\n",
       "23  1.550  1.151\n",
       "24  1.714  1.561\n",
       "25  1.896  1.192\n",
       "26  1.737  1.489\n",
       "27  1.740  1.379\n",
       "28  1.708  1.501\n",
       "29  1.548  1.277\n",
       "30    NaN  1.593\n",
       "31    NaN  1.172\n",
       "32    NaN  1.510\n",
       "33    NaN  1.740\n",
       "34    NaN  1.355"
      ]
     },
     "execution_count": 42,
     "metadata": {},
     "output_type": "execute_result"
    }
   ],
   "source": [
    "import numpy as np\n",
    "import pandas as pd\n",
    "import matplotlib.pyplot as plt\n",
    "import seaborn as sns\n",
    "\n",
    "# Statistics functions\n",
    "from scipy import stats\n",
    "\n",
    "soil = pd.read_csv('soil.csv')\n",
    "soil"
   ]
  },
  {
   "cell_type": "code",
   "execution_count": null,
   "id": "696d83a3-e649-44a6-b150-eb47a5dc0d65",
   "metadata": {},
   "outputs": [],
   "source": [
    "# Ho: mu1=mu2\n",
    "# H1: mu1!=mu2"
   ]
  },
  {
   "cell_type": "code",
   "execution_count": 38,
   "id": "a2077d45-df04-49cf-a59d-24997fd8bb85",
   "metadata": {},
   "outputs": [
    {
     "data": {
      "text/plain": [
       "LeveneResult(statistic=0.31486292982090475, pvalue=0.5767018253541134)"
      ]
     },
     "execution_count": 38,
     "metadata": {},
     "output_type": "execute_result"
    }
   ],
   "source": [
    "levenetest = stats.levene(soil['Soil1'].dropna(),soil['Soil2'].dropna())\n",
    "levenetest"
   ]
  },
  {
   "cell_type": "code",
   "execution_count": 40,
   "id": "2b09fdc5-4595-43aa-ac79-701412cfb197",
   "metadata": {},
   "outputs": [
    {
     "data": {
      "text/plain": [
       "TtestResult(statistic=5.1681473319343345, pvalue=2.593228732352821e-06, df=63.0)"
      ]
     },
     "execution_count": 40,
     "metadata": {},
     "output_type": "execute_result"
    }
   ],
   "source": [
    "ind_test = stats.ttest_ind(soil['Soil1'].dropna(), soil['Soil2'].dropna(), equal_var=True)\n",
    "ind_test"
   ]
  },
  {
   "cell_type": "markdown",
   "id": "158af4dc-bebc-422a-80d2-b58a58aceb16",
   "metadata": {},
   "source": [
    "###### EXERCISE 5\n",
    "The following dataset is based on data provided by the World Bank (https://datacatalog.worldbank.org/dataset/education-statistics). World Bank Edstats.  2015 PISA Test Dataset\r\n",
    "\r\n",
    "Get descriptive statistics (the central tendency, dispersion and shape of a dataset’s distribution) for each continent group (AS, EU, AF, NA, SA, OC).\r\n",
    "Determine whether there is any difference (on the average) for the math scores among European (EU) and Asian (AS) countries (assume normality and equal variances). Draw side-by-side box plots.\r\n",
    "CHECK: statistic=0.870055317967983, pvalue=0.38826888111307345\n"
   ]
  },
  {
   "cell_type": "code",
   "execution_count": 45,
   "id": "2bc65c55-b6c1-432b-aa84-de343293c165",
   "metadata": {},
   "outputs": [
    {
     "data": {
      "text/html": [
       "<div>\n",
       "<style scoped>\n",
       "    .dataframe tbody tr th:only-of-type {\n",
       "        vertical-align: middle;\n",
       "    }\n",
       "\n",
       "    .dataframe tbody tr th {\n",
       "        vertical-align: top;\n",
       "    }\n",
       "\n",
       "    .dataframe thead th {\n",
       "        text-align: right;\n",
       "    }\n",
       "</style>\n",
       "<table border=\"1\" class=\"dataframe\">\n",
       "  <thead>\n",
       "    <tr style=\"text-align: right;\">\n",
       "      <th></th>\n",
       "      <th>Country Code</th>\n",
       "      <th>Continent_Code</th>\n",
       "      <th>internet_users_per_100</th>\n",
       "      <th>Math</th>\n",
       "      <th>Reading</th>\n",
       "      <th>Science</th>\n",
       "    </tr>\n",
       "  </thead>\n",
       "  <tbody>\n",
       "    <tr>\n",
       "      <th>0</th>\n",
       "      <td>ALB</td>\n",
       "      <td>EU</td>\n",
       "      <td>63.252933</td>\n",
       "      <td>413.1570</td>\n",
       "      <td>405.2588</td>\n",
       "      <td>427.2250</td>\n",
       "    </tr>\n",
       "    <tr>\n",
       "      <th>1</th>\n",
       "      <td>ARE</td>\n",
       "      <td>AS</td>\n",
       "      <td>90.500000</td>\n",
       "      <td>427.4827</td>\n",
       "      <td>433.5423</td>\n",
       "      <td>436.7311</td>\n",
       "    </tr>\n",
       "    <tr>\n",
       "      <th>2</th>\n",
       "      <td>ARG</td>\n",
       "      <td>SA</td>\n",
       "      <td>68.043064</td>\n",
       "      <td>409.0333</td>\n",
       "      <td>425.3031</td>\n",
       "      <td>432.2262</td>\n",
       "    </tr>\n",
       "    <tr>\n",
       "      <th>3</th>\n",
       "      <td>AUS</td>\n",
       "      <td>OC</td>\n",
       "      <td>84.560519</td>\n",
       "      <td>493.8962</td>\n",
       "      <td>502.9006</td>\n",
       "      <td>509.9939</td>\n",
       "    </tr>\n",
       "    <tr>\n",
       "      <th>4</th>\n",
       "      <td>AUT</td>\n",
       "      <td>EU</td>\n",
       "      <td>83.940142</td>\n",
       "      <td>496.7423</td>\n",
       "      <td>484.8656</td>\n",
       "      <td>495.0375</td>\n",
       "    </tr>\n",
       "    <tr>\n",
       "      <th>...</th>\n",
       "      <td>...</td>\n",
       "      <td>...</td>\n",
       "      <td>...</td>\n",
       "      <td>...</td>\n",
       "      <td>...</td>\n",
       "      <td>...</td>\n",
       "    </tr>\n",
       "    <tr>\n",
       "      <th>65</th>\n",
       "      <td>TUN</td>\n",
       "      <td>AF</td>\n",
       "      <td>48.519836</td>\n",
       "      <td>366.8180</td>\n",
       "      <td>361.0555</td>\n",
       "      <td>386.4034</td>\n",
       "    </tr>\n",
       "    <tr>\n",
       "      <th>66</th>\n",
       "      <td>TUR</td>\n",
       "      <td>EU</td>\n",
       "      <td>53.744979</td>\n",
       "      <td>420.4540</td>\n",
       "      <td>428.3351</td>\n",
       "      <td>425.4895</td>\n",
       "    </tr>\n",
       "    <tr>\n",
       "      <th>67</th>\n",
       "      <td>URY</td>\n",
       "      <td>SA</td>\n",
       "      <td>64.600000</td>\n",
       "      <td>417.9919</td>\n",
       "      <td>436.5721</td>\n",
       "      <td>435.3630</td>\n",
       "    </tr>\n",
       "    <tr>\n",
       "      <th>68</th>\n",
       "      <td>USA</td>\n",
       "      <td>NaN</td>\n",
       "      <td>74.554202</td>\n",
       "      <td>469.6285</td>\n",
       "      <td>496.9351</td>\n",
       "      <td>496.2424</td>\n",
       "    </tr>\n",
       "    <tr>\n",
       "      <th>69</th>\n",
       "      <td>VNM</td>\n",
       "      <td>AS</td>\n",
       "      <td>43.500000</td>\n",
       "      <td>494.5183</td>\n",
       "      <td>486.7738</td>\n",
       "      <td>524.6445</td>\n",
       "    </tr>\n",
       "  </tbody>\n",
       "</table>\n",
       "<p>70 rows × 6 columns</p>\n",
       "</div>"
      ],
      "text/plain": [
       "   Country Code Continent_Code  internet_users_per_100      Math   Reading  \\\n",
       "0           ALB             EU               63.252933  413.1570  405.2588   \n",
       "1           ARE             AS               90.500000  427.4827  433.5423   \n",
       "2           ARG             SA               68.043064  409.0333  425.3031   \n",
       "3           AUS             OC               84.560519  493.8962  502.9006   \n",
       "4           AUT             EU               83.940142  496.7423  484.8656   \n",
       "..          ...            ...                     ...       ...       ...   \n",
       "65          TUN             AF               48.519836  366.8180  361.0555   \n",
       "66          TUR             EU               53.744979  420.4540  428.3351   \n",
       "67          URY             SA               64.600000  417.9919  436.5721   \n",
       "68          USA            NaN               74.554202  469.6285  496.9351   \n",
       "69          VNM             AS               43.500000  494.5183  486.7738   \n",
       "\n",
       "     Science  \n",
       "0   427.2250  \n",
       "1   436.7311  \n",
       "2   432.2262  \n",
       "3   509.9939  \n",
       "4   495.0375  \n",
       "..       ...  \n",
       "65  386.4034  \n",
       "66  425.4895  \n",
       "67  435.3630  \n",
       "68  496.2424  \n",
       "69  524.6445  \n",
       "\n",
       "[70 rows x 6 columns]"
      ]
     },
     "execution_count": 45,
     "metadata": {},
     "output_type": "execute_result"
    }
   ],
   "source": [
    "import numpy as np\n",
    "import pandas as pd\n",
    "import matplotlib.pyplot as plt\n",
    "import seaborn as sns\n",
    "\n",
    "# Statistics functions\n",
    "from scipy import stats\n",
    "\n",
    "df0 = pd.read_csv('2015 PISA Test.csv')\n",
    "df0"
   ]
  },
  {
   "cell_type": "code",
   "execution_count": 47,
   "id": "08f9dc9b-81a4-4dff-8cbc-ef52092ea15b",
   "metadata": {},
   "outputs": [
    {
     "data": {
      "text/html": [
       "<div>\n",
       "<style scoped>\n",
       "    .dataframe tbody tr th:only-of-type {\n",
       "        vertical-align: middle;\n",
       "    }\n",
       "\n",
       "    .dataframe tbody tr th {\n",
       "        vertical-align: top;\n",
       "    }\n",
       "\n",
       "    .dataframe thead th {\n",
       "        text-align: right;\n",
       "    }\n",
       "</style>\n",
       "<table border=\"1\" class=\"dataframe\">\n",
       "  <thead>\n",
       "    <tr style=\"text-align: right;\">\n",
       "      <th></th>\n",
       "      <th>Country Code</th>\n",
       "      <th>Continent_Code</th>\n",
       "      <th>internet_users_per_100</th>\n",
       "      <th>Math</th>\n",
       "      <th>Reading</th>\n",
       "      <th>Science</th>\n",
       "    </tr>\n",
       "  </thead>\n",
       "  <tbody>\n",
       "    <tr>\n",
       "      <th>0</th>\n",
       "      <td>ALB</td>\n",
       "      <td>EU</td>\n",
       "      <td>63.252933</td>\n",
       "      <td>413.1570</td>\n",
       "      <td>405.2588</td>\n",
       "      <td>427.2250</td>\n",
       "    </tr>\n",
       "    <tr>\n",
       "      <th>1</th>\n",
       "      <td>ARE</td>\n",
       "      <td>AS</td>\n",
       "      <td>90.500000</td>\n",
       "      <td>427.4827</td>\n",
       "      <td>433.5423</td>\n",
       "      <td>436.7311</td>\n",
       "    </tr>\n",
       "    <tr>\n",
       "      <th>2</th>\n",
       "      <td>ARG</td>\n",
       "      <td>SA</td>\n",
       "      <td>68.043064</td>\n",
       "      <td>409.0333</td>\n",
       "      <td>425.3031</td>\n",
       "      <td>432.2262</td>\n",
       "    </tr>\n",
       "    <tr>\n",
       "      <th>3</th>\n",
       "      <td>AUS</td>\n",
       "      <td>OC</td>\n",
       "      <td>84.560519</td>\n",
       "      <td>493.8962</td>\n",
       "      <td>502.9006</td>\n",
       "      <td>509.9939</td>\n",
       "    </tr>\n",
       "    <tr>\n",
       "      <th>4</th>\n",
       "      <td>AUT</td>\n",
       "      <td>EU</td>\n",
       "      <td>83.940142</td>\n",
       "      <td>496.7423</td>\n",
       "      <td>484.8656</td>\n",
       "      <td>495.0375</td>\n",
       "    </tr>\n",
       "    <tr>\n",
       "      <th>...</th>\n",
       "      <td>...</td>\n",
       "      <td>...</td>\n",
       "      <td>...</td>\n",
       "      <td>...</td>\n",
       "      <td>...</td>\n",
       "      <td>...</td>\n",
       "    </tr>\n",
       "    <tr>\n",
       "      <th>65</th>\n",
       "      <td>TUN</td>\n",
       "      <td>AF</td>\n",
       "      <td>48.519836</td>\n",
       "      <td>366.8180</td>\n",
       "      <td>361.0555</td>\n",
       "      <td>386.4034</td>\n",
       "    </tr>\n",
       "    <tr>\n",
       "      <th>66</th>\n",
       "      <td>TUR</td>\n",
       "      <td>EU</td>\n",
       "      <td>53.744979</td>\n",
       "      <td>420.4540</td>\n",
       "      <td>428.3351</td>\n",
       "      <td>425.4895</td>\n",
       "    </tr>\n",
       "    <tr>\n",
       "      <th>67</th>\n",
       "      <td>URY</td>\n",
       "      <td>SA</td>\n",
       "      <td>64.600000</td>\n",
       "      <td>417.9919</td>\n",
       "      <td>436.5721</td>\n",
       "      <td>435.3630</td>\n",
       "    </tr>\n",
       "    <tr>\n",
       "      <th>68</th>\n",
       "      <td>USA</td>\n",
       "      <td>NaN</td>\n",
       "      <td>74.554202</td>\n",
       "      <td>469.6285</td>\n",
       "      <td>496.9351</td>\n",
       "      <td>496.2424</td>\n",
       "    </tr>\n",
       "    <tr>\n",
       "      <th>69</th>\n",
       "      <td>VNM</td>\n",
       "      <td>AS</td>\n",
       "      <td>43.500000</td>\n",
       "      <td>494.5183</td>\n",
       "      <td>486.7738</td>\n",
       "      <td>524.6445</td>\n",
       "    </tr>\n",
       "  </tbody>\n",
       "</table>\n",
       "<p>70 rows × 6 columns</p>\n",
       "</div>"
      ],
      "text/plain": [
       "   Country Code Continent_Code  internet_users_per_100      Math   Reading  \\\n",
       "0           ALB             EU               63.252933  413.1570  405.2588   \n",
       "1           ARE             AS               90.500000  427.4827  433.5423   \n",
       "2           ARG             SA               68.043064  409.0333  425.3031   \n",
       "3           AUS             OC               84.560519  493.8962  502.9006   \n",
       "4           AUT             EU               83.940142  496.7423  484.8656   \n",
       "..          ...            ...                     ...       ...       ...   \n",
       "65          TUN             AF               48.519836  366.8180  361.0555   \n",
       "66          TUR             EU               53.744979  420.4540  428.3351   \n",
       "67          URY             SA               64.600000  417.9919  436.5721   \n",
       "68          USA            NaN               74.554202  469.6285  496.9351   \n",
       "69          VNM             AS               43.500000  494.5183  486.7738   \n",
       "\n",
       "     Science  \n",
       "0   427.2250  \n",
       "1   436.7311  \n",
       "2   432.2262  \n",
       "3   509.9939  \n",
       "4   495.0375  \n",
       "..       ...  \n",
       "65  386.4034  \n",
       "66  425.4895  \n",
       "67  435.3630  \n",
       "68  496.2424  \n",
       "69  524.6445  \n",
       "\n",
       "[70 rows x 6 columns]"
      ]
     },
     "execution_count": 47,
     "metadata": {},
     "output_type": "execute_result"
    }
   ],
   "source": [
    "df = pd.DataFrame(df0)\n",
    "df"
   ]
  },
  {
   "cell_type": "code",
   "execution_count": 48,
   "id": "4aba4da5-7f08-472b-8664-441134806fef",
   "metadata": {},
   "outputs": [
    {
     "name": "stdout",
     "output_type": "stream",
     "text": [
      "Descriptive Statistics for each continent group:\n",
      "                internet_users_per_100                                   \\\n",
      "                                count       mean        std        min   \n",
      "Continent_Code                                                           \n",
      "AF                                2.0  43.359918   7.297226  38.200000   \n",
      "AS                               17.0  68.455613  21.086060  21.976068   \n",
      "EU                               37.0  77.274888  12.425773  53.744979   \n",
      "OC                                2.0  86.391704   2.589686  84.560519   \n",
      "SA                                7.0  60.180494   9.772455  40.900000   \n",
      "\n",
      "                                                            Math              \\\n",
      "                      25%        50%        75%        max count        mean   \n",
      "Continent_Code                                                                 \n",
      "AF              40.779959  43.359918  45.939877  48.519836   2.0  363.212100   \n",
      "AS              50.300000  74.000000  84.948353  92.884826  17.0  466.216647   \n",
      "EU              68.632900  76.184000  87.479056  98.200000  37.0  477.981449   \n",
      "OC              85.476112  86.391704  87.307296  88.222889   2.0  494.559750   \n",
      "SA              57.116462  64.289000  66.321532  69.198471   7.0  402.887700   \n",
      "\n",
      "                ...     Reading           Science                         \\\n",
      "                ...         75%       max   count        mean        std   \n",
      "Continent_Code  ...                                                        \n",
      "AF              ...  358.256450  361.0555     2.0  381.074250   7.536556   \n",
      "AS              ...  508.690500  535.1002    17.0  467.945847  56.671371   \n",
      "EU              ...  499.814600  526.4247    37.0  478.299381  34.450616   \n",
      "OC              ...  507.678175  509.2707     2.0  511.648700   2.340241   \n",
      "SA              ...  431.922700  458.5709     7.0  421.747186  18.470319   \n",
      "\n",
      "                                                                       \n",
      "                     min         25%        50%         75%       max  \n",
      "Continent_Code                                                         \n",
      "AF              375.7451  378.409675  381.07425  383.738825  386.4034  \n",
      "AS              386.4854  417.611200  456.48360  523.277400  555.5747  \n",
      "EU              383.6824  460.774900  490.22500  501.936900  534.1937  \n",
      "OC              509.9939  510.821300  511.64870  512.476100  513.3035  \n",
      "SA              396.6836  408.205450  424.59050  433.794600  446.9561  \n",
      "\n",
      "[5 rows x 32 columns]\n"
     ]
    }
   ],
   "source": [
    "# Descriptive statistics for each continent group\n",
    "continent_stats = df.groupby('Continent_Code').describe()\n",
    "\n",
    "print(\"Descriptive Statistics for each continent group:\\n\", continent_stats)"
   ]
  },
  {
   "cell_type": "code",
   "execution_count": 49,
   "id": "20b01192-ddcc-447c-92d9-cf56d10e673a",
   "metadata": {},
   "outputs": [],
   "source": [
    "# Extract math scores for EU and AS countries\n",
    "math_scores_eu = df[df['Continent_Code'] == 'EU']['Math']\n",
    "math_scores_as = df[df['Continent_Code'] == 'AS']['Math']"
   ]
  },
  {
   "cell_type": "code",
   "execution_count": 52,
   "id": "b948de07-7ed6-4457-874d-8d68dc8102e1",
   "metadata": {},
   "outputs": [
    {
     "name": "stdout",
     "output_type": "stream",
     "text": [
      "\n",
      "T-test Results:\n",
      "T-statistic: 0.870055317967983\n",
      "P-value: 0.38826888111307345\n"
     ]
    }
   ],
   "source": [
    "# Perform t-test\n",
    "t_statistic, p_value = stats.ttest_ind(math_scores_eu, math_scores_as, equal_var=True)\n",
    "print(\"\\nT-test Results:\")\n",
    "print(\"T-statistic:\", t_statistic)\n",
    "print(\"P-value:\", p_value)"
   ]
  },
  {
   "cell_type": "code",
   "execution_count": 57,
   "id": "5e8566d3-8c57-4e77-bfef-af61bf25bd17",
   "metadata": {},
   "outputs": [
    {
     "data": {
      "image/png": "[encoded data removed]",
      "text/plain": [
       "<Figure size 1000x600 with 1 Axes>"
      ]
     },
     "metadata": {},
     "output_type": "display_data"
    }
   ],
   "source": [
    "# Side-by-side box plots\n",
    "plt.figure(figsize=(10, 6))\n",
    "sns.boxplot(data=[math_scores_eu, math_scores_as], palette=\"Set3\")\n",
    "plt.xticks(ticks=[0, 1], labels=['EU', 'AS'])\n",
    "plt.title('Math Scores Distribution: EU vs AS')\n",
    "plt.xlabel('Continent')\n",
    "plt.ylabel('Math Score')\n",
    "plt.show()"
   ]
  },
  {
   "cell_type": "code",
   "execution_count": null,
   "id": "9d1eaddd-5cf1-4a93-946b-2c178b474a60",
   "metadata": {},
   "outputs": [],
   "source": []
  }
 ],
 "metadata": {
  "kernelspec": {
   "display_name": "Python 3 (ipykernel)",
   "language": "python",
   "name": "python3"
  },
  "language_info": {
   "codemirror_mode": {
    "name": "ipython",
    "version": 3
   },
   "file_extension": ".py",
   "mimetype": "text/x-python",
   "name": "python",
   "nbconvert_exporter": "python",
   "pygments_lexer": "ipython3",
   "version": "3.11.7"
  }
 },
 "nbformat": 4,
 "nbformat_minor": 5
}
