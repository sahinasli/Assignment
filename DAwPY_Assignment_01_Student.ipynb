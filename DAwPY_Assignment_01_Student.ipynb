{
  "cells": [
    {
      "cell_type": "markdown",
      "metadata": {
        "deletable": false,
        "editable": false,
        "id": "dDK8CvcZ1jXE"
      },
      "source": [
        "<a href=\"https://clarusway.com/contact-us/\"><img align=\"center\" src=\"https://i.ibb.co/B43qn24/officially-licensed-logo.png\" alt=\"Open in Clarusway LMS\" width=\"110\" height=\"200\" title=\"This notebook is licensed by Clarusway IT training school. Please contact the authorized persons about the conditions under which you can use or share.\"></a>"
      ]
    },
    {
      "cell_type": "markdown",
      "metadata": {
        "id": "fepd5K3rAd-n"
      },
      "source": [
        "___\n",
        "\n",
        "<a href=\"https://lms.clarusway.com/course/view.php?id=37\"><img align=\"center\" src=\"https://i.ibb.co/6Z5pQxD/lmss.png\" alt=\"Open in Clarusway LMS\" width=\"70\" height=\"200\" title=\"Open Clarusway Learning Management Sytem\"></a>\n",
        "\n",
        "<a href=\"https://github.com/clarusway/DS-DE-0322-Students/blob/main/3-%20Classes%26Labs/3-DVwPY/DVwPy_S06_Capstone_Project%20(Bike%20Store%20Sharing).ipynb\"><img align=\"left\" src=\"https://i.ibb.co/n3HWyQX/github-logo.png\" alt=\"Open in Clarusway GitHub\" width=\"100\" height=\"150\" title=\"Open and Execute in Clarusway GitHub Repository\"></a>\n",
        "\n",
        "<a href=\"https://nbviewer.org/github/4dsolutions/clarusway_data_analysis/blob/main/DVwPY_S6/6-DVwPy%20Capstone%20%28Bike%20Store%20Sharing%29.ipynb\"><img align=\"right\" src=\"https://i.ibb.co/48wtV8c/nbviewer-badge.png\" alt=\"Open in nbviewer\" width=\"130\" height=\"200\" title=\"Open and Execute in nbviewer\"></a><br/>\n",
        "___\n",
        "\n",
        "<a href=\"https://clarusway.com/\"><img align=\"center\" src=\"https://i.ibb.co/Rpz9L36/clarusway-logo-black.png\" width=\"450\" height=\"200\" alt=\"CLRSWY_LOGO\" title=\"Open and Execute in Google Colaboratory\"></a><br/>\n",
        "\n",
        "<p style=\"background-color:#E51A59; font-family:newtimeroman; color:#FDFEFE; font-size:130%; text-align:center; border-radius:10px 10px;\">WAY TO REINVENT YOURSELF</p>\n",
        "\n",
        "<p style=\"text-align: center;\"><img src=\"https://i.ibb.co/99DQ3TY/DS-Courses.png\" class=\"img-fluid\"\n",
        "alt=\"CLRSWY\"></p>\n",
        "\n",
        "## <p style=\"background-color:#FDFEFE; font-family:newtimeroman; color:#060108; font-size:200%; text-align:center; border-radius:10px 10px;\">Data Analysis with Python</p>\n",
        "\n",
        "![Image_Assignment](https://i.ibb.co/cY9HhF7/bnote-assignment.gif)\n",
        "\n",
        "## <p style=\"background-color:#FDFEFE; font-family:newtimeroman; color:#4d77cf; font-size:200%; text-align:center; border-radius:10px 10px;\">Assignment 01 (NumPy & Pandas Basics)</p>"
      ]
    },
    {
      "cell_type": "markdown",
      "metadata": {
        "id": "98_-KorH1jXG"
      },
      "source": [
        "<a id=\"toc\"></a>\n",
        "\n",
        "## <p style=\"background-color:#9d4f8c; font-family:newtimeroman; color:#FFF9ED; font-size:175%; text-align:center; border-radius:10px 10px;\">Content</p>\n",
        "\n",
        "* [NUMPY SECTION](#0)\n",
        "* [PANDAS SECTION](#1)\n"
      ]
    },
    {
      "cell_type": "markdown",
      "metadata": {
        "id": "lFoJR2iTAd-v"
      },
      "source": [
        "**In this assignment you will start off with Numpy Exercises and then complete the whole Exercise with Pandas questions. All the subjects related to questions here already covered in preclass materials and in-class sessions. So good luck!**"
      ]
    },
    {
      "cell_type": "markdown",
      "metadata": {
        "id": "grAVAgc-1jXG"
      },
      "source": [
        "## <p style=\"background-color:#9d4f8c; font-family:newtimeroman; color:#FFF9ED; font-size:175%; text-align:center; border-radius:10px 10px;\">Numpy Section</p>\n",
        "\n",
        "<a id=\"0\"></a>\n",
        "<a href=\"#toc\" class=\"btn btn-primary btn-sm\" role=\"button\" aria-pressed=\"true\"\n",
        "style=\"color:blue; background-color:#dfa8e4\" data-toggle=\"popover\">Content</a>"
      ]
    },
    {
      "cell_type": "markdown",
      "metadata": {
        "id": "9LrbgcwYAd-w"
      },
      "source": [
        "### 1. Import NumPy Library."
      ]
    },
    {
      "cell_type": "code",
      "execution_count": null,
      "metadata": {
        "id": "MymrsT_dAd-x"
      },
      "outputs": [],
      "source": [
        "import numpy as np\n"
      ]
    },
    {
      "cell_type": "markdown",
      "metadata": {
        "id": "It1vT4JYAd-y"
      },
      "source": [
        "### 2. Create an array from my_list = [5, 10, 15, 20, 25]"
      ]
    },
    {
      "cell_type": "code",
      "execution_count": null,
      "metadata": {
        "id": "AyXDG_nZ1jXH",
        "outputId": "ad720e09-619c-4b06-a16f-a64306267a68"
      },
      "outputs": [
        {
          "data": {
            "text/plain": [
              "array([ 5, 10, 15, 20, 25])"
            ]
          },
          "execution_count": 21,
          "metadata": {},
          "output_type": "execute_result"
        }
      ],
      "source": [
        "my_list=[5,10,15,20,25]\n",
        "np.array(my_list)\n"
      ]
    },
    {
      "cell_type": "raw",
      "metadata": {
        "id": "dPndrpKOAd-z",
        "outputId": "fa4080ee-8528-454e-d834-2d13d49bbec2"
      },
      "source": [
        "Desired Output:\n",
        "\n",
        "array([ 5, 10, 15, 20, 25])"
      ]
    },
    {
      "cell_type": "markdown",
      "metadata": {
        "id": "1hVeq_fEAd-1"
      },
      "source": [
        "### 3. Generate an array of 5x5 with zeros."
      ]
    },
    {
      "cell_type": "code",
      "execution_count": null,
      "metadata": {
        "id": "Y0R-L8hBAd-2",
        "outputId": "0e776b84-e315-4a1d-b0de-a1d12ca90f92"
      },
      "outputs": [
        {
          "data": {
            "text/plain": [
              "array([[0., 0., 0., 0., 0.],\n",
              "       [0., 0., 0., 0., 0.],\n",
              "       [0., 0., 0., 0., 0.],\n",
              "       [0., 0., 0., 0., 0.],\n",
              "       [0., 0., 0., 0., 0.]])"
            ]
          },
          "execution_count": 22,
          "metadata": {},
          "output_type": "execute_result"
        }
      ],
      "source": [
        "np.zeros((5,5))\n",
        "\n"
      ]
    },
    {
      "cell_type": "raw",
      "metadata": {
        "id": "5UnT8pOA1jXI"
      },
      "source": [
        "Desired Output:\n",
        "\n",
        "array([[0., 0., 0., 0., 0.],\n",
        "       [0., 0., 0., 0., 0.],\n",
        "       [0., 0., 0., 0., 0.],\n",
        "       [0., 0., 0., 0., 0.],\n",
        "       [0., 0., 0., 0., 0.]])"
      ]
    },
    {
      "cell_type": "markdown",
      "metadata": {
        "id": "lHhdpBa6Ad-3"
      },
      "source": [
        "### 4. Generate an array of 4x4 with ones and assign data type as int."
      ]
    },
    {
      "cell_type": "code",
      "execution_count": null,
      "metadata": {
        "id": "s45bqkmOAd-3",
        "outputId": "cb6fadf5-1feb-4784-d39c-6b690c339dad"
      },
      "outputs": [
        {
          "data": {
            "text/plain": [
              "array([[1, 1, 1, 1],\n",
              "       [1, 1, 1, 1],\n",
              "       [1, 1, 1, 1],\n",
              "       [1, 1, 1, 1]])"
            ]
          },
          "execution_count": 23,
          "metadata": {},
          "output_type": "execute_result"
        }
      ],
      "source": [
        "arr1 = np.ones((4,4),dtype=int)\n",
        "arr1\n"
      ]
    },
    {
      "cell_type": "raw",
      "metadata": {
        "id": "BinQTGW91jXI"
      },
      "source": [
        "Desired Output:\n",
        "\n",
        "array([[1, 1, 1, 1],\n",
        "       [1, 1, 1, 1],\n",
        "       [1, 1, 1, 1],\n",
        "       [1, 1, 1, 1]])"
      ]
    },
    {
      "cell_type": "markdown",
      "metadata": {
        "id": "1gD94nCeAd-5"
      },
      "source": [
        "### 5. Make all the values of the array above with the value of 7."
      ]
    },
    {
      "cell_type": "code",
      "execution_count": null,
      "metadata": {
        "id": "L8fjsn5JAd-6",
        "outputId": "8d9bc166-b598-4552-f4d2-873cf5edc2df"
      },
      "outputs": [
        {
          "data": {
            "text/plain": [
              "array([[7, 7, 7, 7],\n",
              "       [7, 7, 7, 7],\n",
              "       [7, 7, 7, 7],\n",
              "       [7, 7, 7, 7]])"
            ]
          },
          "execution_count": 24,
          "metadata": {},
          "output_type": "execute_result"
        }
      ],
      "source": [
        "arr1[:,:] = 7\n",
        "arr1\n",
        "\n"
      ]
    },
    {
      "cell_type": "raw",
      "metadata": {
        "id": "apE7YMlt1jXJ"
      },
      "source": [
        "Desired Output:\n",
        "\n",
        "array([[7, 7, 7, 7],\n",
        "       [7, 7, 7, 7],\n",
        "       [7, 7, 7, 7],\n",
        "       [7, 7, 7, 7]])"
      ]
    },
    {
      "cell_type": "markdown",
      "metadata": {
        "id": "XeOPD2dBAd-7"
      },
      "source": [
        "### 6. Create the previous array above by full() method."
      ]
    },
    {
      "cell_type": "code",
      "execution_count": null,
      "metadata": {
        "id": "xqoPe_PJAd-7",
        "outputId": "3388a381-4737-4997-bf40-e85ef80f0e0c"
      },
      "outputs": [
        {
          "data": {
            "text/plain": [
              "array([[7, 7, 7, 7],\n",
              "       [7, 7, 7, 7],\n",
              "       [7, 7, 7, 7],\n",
              "       [7, 7, 7, 7]])"
            ]
          },
          "execution_count": 25,
          "metadata": {},
          "output_type": "execute_result"
        }
      ],
      "source": [
        "np.full((4,4),7)\n",
        "\n"
      ]
    },
    {
      "cell_type": "raw",
      "metadata": {
        "id": "4S_E4o3-1jXJ"
      },
      "source": [
        "Desired Output:\n",
        "\n",
        "array([[7, 7, 7, 7],\n",
        "       [7, 7, 7, 7],\n",
        "       [7, 7, 7, 7],\n",
        "       [7, 7, 7, 7]])"
      ]
    },
    {
      "cell_type": "markdown",
      "metadata": {
        "id": "G8_xFCyQAd-8"
      },
      "source": [
        "### 7. Create an array of even integers from 2 to 16 (both inclusive)."
      ]
    },
    {
      "cell_type": "code",
      "execution_count": null,
      "metadata": {
        "id": "Nu6VInWWAd-8",
        "outputId": "7b2afddf-d699-4b42-963a-6910b9a08362"
      },
      "outputs": [
        {
          "data": {
            "text/plain": [
              "array([ 2,  4,  6,  8, 10, 12, 14, 16])"
            ]
          },
          "execution_count": 26,
          "metadata": {},
          "output_type": "execute_result"
        }
      ],
      "source": [
        "a = np.arange(2,17)\n",
        "a[a % 2 == 0]\n",
        "\n"
      ]
    },
    {
      "cell_type": "raw",
      "metadata": {
        "id": "T0l-acGf1jXK"
      },
      "source": [
        "Desired Output:\n",
        "\n",
        "array([ 2,  4,  6,  8, 10, 12, 14, 16])"
      ]
    },
    {
      "cell_type": "markdown",
      "metadata": {
        "id": "-SZvgEVVAd-9"
      },
      "source": [
        "### 8. Create a 5x5 matrix with the values between 0 (inclusive) to 25 (exclusive)."
      ]
    },
    {
      "cell_type": "code",
      "execution_count": null,
      "metadata": {
        "id": "ddkmPCghAd--",
        "outputId": "41b5e595-63c5-417a-a93d-e235d4235969"
      },
      "outputs": [
        {
          "data": {
            "text/plain": [
              "array([[ 0,  1,  2,  3,  4],\n",
              "       [ 5,  6,  7,  8,  9],\n",
              "       [10, 11, 12, 13, 14],\n",
              "       [15, 16, 17, 18, 19],\n",
              "       [20, 21, 22, 23, 24]])"
            ]
          },
          "execution_count": 27,
          "metadata": {},
          "output_type": "execute_result"
        }
      ],
      "source": [
        "np.arange(25).reshape(5,5)\n",
        "\n"
      ]
    },
    {
      "cell_type": "raw",
      "metadata": {
        "id": "TGnTcmWx1jXK"
      },
      "source": [
        "Desired Output:\n",
        "\n",
        "array([[ 0,  1,  2,  3,  4],\n",
        "       [ 5,  6,  7,  8,  9],\n",
        "       [10, 11, 12, 13, 14],\n",
        "       [15, 16, 17, 18, 19],\n",
        "       [20, 21, 22, 23, 24]])"
      ]
    },
    {
      "cell_type": "markdown",
      "metadata": {
        "id": "-QuMw6v5Ad-_"
      },
      "source": [
        "### 9. Create a 5x5 matrix with the values between 0 (inclusive) to 25 (exclusive) using linspace method."
      ]
    },
    {
      "cell_type": "code",
      "execution_count": null,
      "metadata": {
        "id": "4A195I5iAd_A",
        "outputId": "32c79db2-4a9d-433c-8900-db68e92c2c44"
      },
      "outputs": [
        {
          "data": {
            "text/plain": [
              "array([[ 0,  1,  2,  3,  4],\n",
              "       [ 5,  6,  7,  8,  9],\n",
              "       [10, 11, 12, 13, 14],\n",
              "       [15, 16, 17, 18, 19],\n",
              "       [20, 21, 22, 23, 24]])"
            ]
          },
          "execution_count": 28,
          "metadata": {},
          "output_type": "execute_result"
        }
      ],
      "source": [
        "np.linspace(0,24,25,dtype=int).reshape(5,5)\n",
        "# np.linspace(0,25,25,dtype=int, endpoint=False).reshape(5,5)\n",
        "\n"
      ]
    },
    {
      "cell_type": "raw",
      "metadata": {
        "id": "2L2_I_lj1jXK"
      },
      "source": [
        "Desired Output:\n",
        "\n",
        "array([[ 0,  1,  2,  3,  4],\n",
        "       [ 5,  6,  7,  8,  9],\n",
        "       [10, 11, 12, 13, 14],\n",
        "       [15, 16, 17, 18, 19],\n",
        "       [20, 21, 22, 23, 24]])"
      ]
    },
    {
      "cell_type": "markdown",
      "metadata": {
        "id": "xL-eRUXEAd_B"
      },
      "source": [
        "### 10. Create randomly 5 numbers with numpy."
      ]
    },
    {
      "cell_type": "code",
      "execution_count": null,
      "metadata": {
        "id": "0xda3LnLAd_B",
        "outputId": "4493e1f5-914f-4645-c0c7-1c569e8192e2"
      },
      "outputs": [
        {
          "data": {
            "text/plain": [
              "array([0.83092944, 0.2866751 , 0.36391215, 0.88240797, 0.12400657])"
            ]
          },
          "execution_count": 29,
          "metadata": {},
          "output_type": "execute_result"
        }
      ],
      "source": [
        "np.random.rand(5)\n"
      ]
    },
    {
      "cell_type": "raw",
      "metadata": {
        "id": "bcI7PKh91jXL"
      },
      "source": [
        "Desired Output (WATCH OUT! Your output will probably NOT be the same as the one below due to randomization):\n",
        "\n",
        "array([0.69664494, 0.66387647, 0.97508534, 0.33818591, 0.58766187])"
      ]
    },
    {
      "cell_type": "markdown",
      "metadata": {
        "id": "JXiZjg06Ad_C"
      },
      "source": [
        "### 11. Generate a 5 by 5 array and fills it with random values as per the standard normal distribution.\n"
      ]
    },
    {
      "cell_type": "code",
      "execution_count": null,
      "metadata": {
        "id": "KeJDVElTAd_C",
        "outputId": "6152900a-adf2-4ce2-f14a-2266b3dec532"
      },
      "outputs": [
        {
          "data": {
            "text/plain": [
              "array([[ 1.44366194,  0.29049462,  0.55383168,  1.38031302, -1.33458661],\n",
              "       [-2.17615199,  1.94039231,  0.87164478, -0.25985031, -0.45442036],\n",
              "       [ 1.2619348 ,  0.13148221, -0.40293412, -0.07685069, -1.81299192],\n",
              "       [ 0.55701564,  0.93502124,  1.70223887, -2.63021007, -0.0238561 ],\n",
              "       [ 1.31899577,  0.63987301, -1.36922178, -0.19530078, -2.13027894]])"
            ]
          },
          "execution_count": 30,
          "metadata": {},
          "output_type": "execute_result"
        }
      ],
      "source": [
        "np.random.randn(5,5)\n",
        "\n"
      ]
    },
    {
      "cell_type": "raw",
      "metadata": {
        "id": "irOWvbju1jXL"
      },
      "source": [
        "Desired Output (WATCH OUT! Your output will probably NOT be the same as the one below due to randomization):\n",
        "\n",
        "array([[ 0.73087006, -0.34675846, -1.03601606, -0.61227298, -0.57078798],\n",
        "       [ 1.85976917, -0.37158111, -1.16789003, -0.81271697,  1.39620977],\n",
        "       [ 0.52695367, -0.19017673,  0.78067235, -1.3520313 ,  0.44878344],\n",
        "       [ 0.27758877,  0.75391726, -0.52652875,  0.74519765, -0.40414682],\n",
        "       [ 0.12743864, -0.81637521,  0.14086653, -0.29524574,  0.12703938]])"
      ]
    },
    {
      "cell_type": "markdown",
      "metadata": {
        "id": "iHRAL69DAd_D"
      },
      "source": [
        "### 12. Generate a 3*4 array of random int numbers between 20 and 50 (both inclusive)."
      ]
    },
    {
      "cell_type": "code",
      "execution_count": null,
      "metadata": {
        "id": "19owhlhjAd_D",
        "outputId": "5917f248-5062-4044-9236-6c5afff3db89"
      },
      "outputs": [
        {
          "data": {
            "text/plain": [
              "array([[42, 34, 28, 26],\n",
              "       [39, 30, 29, 47],\n",
              "       [38, 20, 39, 39]])"
            ]
          },
          "execution_count": 31,
          "metadata": {},
          "output_type": "execute_result"
        }
      ],
      "source": [
        "np.random.randint(20,50,size=(3,4))\n"
      ]
    },
    {
      "cell_type": "raw",
      "metadata": {
        "id": "kvr5gLEm1jXM"
      },
      "source": [
        "Desired Output (WATCH OUT! Your output will probably NOT be the same as the one below due to randomization):\n",
        "\n",
        "array([[33, 39, 47, 26],\n",
        "       [41, 20, 32, 23],\n",
        "       [25, 22, 41, 28]])"
      ]
    },
    {
      "cell_type": "markdown",
      "metadata": {
        "id": "XpsHE5BsAd_E"
      },
      "source": [
        "### 13. Generate an array named \"ranarr\"consisting of randomly 48 numbers (int) and reshape this array 6 by 8 in different ways (remember the power of -1)."
      ]
    },
    {
      "cell_type": "code",
      "execution_count": null,
      "metadata": {
        "id": "8DWl1ExmAd_E",
        "outputId": "4a038c81-1da8-45ac-f09d-d1704256e212"
      },
      "outputs": [
        {
          "data": {
            "text/plain": [
              "array([47,  8, 26,  0, 53,  8,  5, 41,  1, 55, 49, 32, 43,  7, 52, 41,  2,\n",
              "       18, 43,  1, 51, 48, 44,  9,  4, 10, 33, 52, 54, 42, 22, 38, 52, 28,\n",
              "       49, 52, 39, 46, 38, 11, 47, 52, 46, 33, 16, 11, 52, 16])"
            ]
          },
          "execution_count": 32,
          "metadata": {},
          "output_type": "execute_result"
        }
      ],
      "source": [
        "ranarr = np.random.randint(0, 60, 48)\n",
        "ranarr\n"
      ]
    },
    {
      "cell_type": "raw",
      "metadata": {
        "id": "4Y3zQLAQ1jXN"
      },
      "source": [
        "Desired Output (WATCH OUT! Your output will probably NOT be the same as the one below due to randomization):\n",
        "\n",
        "array([ 6, 21, 18, 53, 38, 37, 30, 47, 19, 44, 29, 12, 14, 37, 24, 14, 16,\n",
        "       18,  3, 19, 19, 41, 28, 41,  3, 47,  4, 18, 27, 44, 15, 21,  5, 55,\n",
        "       38,  9,  5, 50, 15, 20,  7, 26, 45, 39, 37, 23,  6, 10])"
      ]
    },
    {
      "cell_type": "code",
      "execution_count": null,
      "metadata": {
        "id": "3YxAvl1zAd_E",
        "outputId": "a00b7cf6-fd70-455f-f001-2458199d3399"
      },
      "outputs": [
        {
          "data": {
            "text/plain": [
              "array([[47,  8, 26,  0, 53,  8,  5, 41],\n",
              "       [ 1, 55, 49, 32, 43,  7, 52, 41],\n",
              "       [ 2, 18, 43,  1, 51, 48, 44,  9],\n",
              "       [ 4, 10, 33, 52, 54, 42, 22, 38],\n",
              "       [52, 28, 49, 52, 39, 46, 38, 11],\n",
              "       [47, 52, 46, 33, 16, 11, 52, 16]])"
            ]
          },
          "execution_count": 33,
          "metadata": {},
          "output_type": "execute_result"
        }
      ],
      "source": [
        "# YOUR CODE IS HERE (RESHAPING WITH NUM)\n",
        "ranarr.reshape(6,8)\n"
      ]
    },
    {
      "cell_type": "raw",
      "metadata": {
        "id": "PqUloPhc1jXN"
      },
      "source": [
        "Desired Output (WATCH OUT! Your output will probably NOT be the same as the one below due to randomization):\n",
        "\n",
        "array([[ 6, 21, 18, 53, 38, 37, 30, 47],\n",
        "       [19, 44, 29, 12, 14, 37, 24, 14],\n",
        "       [16, 18,  3, 19, 19, 41, 28, 41],\n",
        "       [ 3, 47,  4, 18, 27, 44, 15, 21],\n",
        "       [ 5, 55, 38,  9,  5, 50, 15, 20],\n",
        "       [ 7, 26, 45, 39, 37, 23,  6, 10]])"
      ]
    },
    {
      "cell_type": "code",
      "execution_count": null,
      "metadata": {
        "id": "5PJczaI-Ad_F",
        "outputId": "a0d7a7a9-4173-49f5-858e-2ff69a497e63"
      },
      "outputs": [
        {
          "data": {
            "text/plain": [
              "array([[47,  8, 26,  0, 53,  8,  5, 41],\n",
              "       [ 1, 55, 49, 32, 43,  7, 52, 41],\n",
              "       [ 2, 18, 43,  1, 51, 48, 44,  9],\n",
              "       [ 4, 10, 33, 52, 54, 42, 22, 38],\n",
              "       [52, 28, 49, 52, 39, 46, 38, 11],\n",
              "       [47, 52, 46, 33, 16, 11, 52, 16]])"
            ]
          },
          "execution_count": 34,
          "metadata": {},
          "output_type": "execute_result"
        }
      ],
      "source": [
        "# YOUR CODE IS HERE (RESHAPING WITH -1)\n",
        "np.reshape(ranarr, (6,-1))\n"
      ]
    },
    {
      "cell_type": "raw",
      "metadata": {
        "id": "eXA5FaDv1jXN"
      },
      "source": [
        "Desired Output (WATCH OUT! Your output will probably NOT be the same as the one below due to randomization):\n",
        "\n",
        "array([[ 6, 21, 18, 53, 38, 37, 30, 47],\n",
        "       [19, 44, 29, 12, 14, 37, 24, 14],\n",
        "       [16, 18,  3, 19, 19, 41, 28, 41],\n",
        "       [ 3, 47,  4, 18, 27, 44, 15, 21],\n",
        "       [ 5, 55, 38,  9,  5, 50, 15, 20],\n",
        "       [ 7, 26, 45, 39, 37, 23,  6, 10]])"
      ]
    },
    {
      "cell_type": "code",
      "execution_count": null,
      "metadata": {
        "id": "TeZXDW7f1jXN",
        "outputId": "b3101f76-a512-415e-a5d9-ccff1a92c062"
      },
      "outputs": [
        {
          "data": {
            "text/plain": [
              "array([[47,  8, 26,  0, 53,  8,  5, 41],\n",
              "       [ 1, 55, 49, 32, 43,  7, 52, 41],\n",
              "       [ 2, 18, 43,  1, 51, 48, 44,  9],\n",
              "       [ 4, 10, 33, 52, 54, 42, 22, 38],\n",
              "       [52, 28, 49, 52, 39, 46, 38, 11],\n",
              "       [47, 52, 46, 33, 16, 11, 52, 16]])"
            ]
          },
          "execution_count": 35,
          "metadata": {},
          "output_type": "execute_result"
        }
      ],
      "source": [
        "# YOUR CODE IS HERE (RESHAPING WITH -1)\n",
        "np.reshape(ranarr, (6,-1))\n"
      ]
    },
    {
      "cell_type": "raw",
      "metadata": {
        "id": "7NJ4BImm1jXO"
      },
      "source": [
        "Desired Output (WATCH OUT! Your output will probably NOT be the same as the one below due to randomization):\n",
        "\n",
        "array([[ 6, 21, 18, 53, 38, 37, 30, 47],\n",
        "       [19, 44, 29, 12, 14, 37, 24, 14],\n",
        "       [16, 18,  3, 19, 19, 41, 28, 41],\n",
        "       [ 3, 47,  4, 18, 27, 44, 15, 21],\n",
        "       [ 5, 55, 38,  9,  5, 50, 15, 20],\n",
        "       [ 7, 26, 45, 39, 37, 23,  6, 10]])"
      ]
    },
    {
      "cell_type": "markdown",
      "metadata": {
        "id": "jB4suWaXAd_F"
      },
      "source": [
        "## Numpy Indexing and Selection"
      ]
    },
    {
      "cell_type": "markdown",
      "metadata": {
        "id": "tZ1GroKn1jXO"
      },
      "source": [
        "### Create an array named \"mat\" in accordence with the desired output below."
      ]
    },
    {
      "cell_type": "code",
      "execution_count": null,
      "metadata": {
        "id": "x2zNGxNkAd_F",
        "outputId": "c216363b-9e1f-4e7e-807c-ea5ccde8cebb"
      },
      "outputs": [
        {
          "data": {
            "text/plain": [
              "array([[ 1,  2,  3,  4],\n",
              "       [ 5,  6,  7,  8],\n",
              "       [ 9, 10, 11, 12],\n",
              "       [13, 14, 15, 16]])"
            ]
          },
          "execution_count": 36,
          "metadata": {},
          "output_type": "execute_result"
        }
      ],
      "source": [
        "a = np.arange(1,17).reshape(4,4)\n",
        "a"
      ]
    },
    {
      "cell_type": "raw",
      "metadata": {
        "id": "PRsckETw1jXO"
      },
      "source": [
        "Desired Output:\n",
        "\n",
        "array([[ 1,  2,  3,  4],\n",
        "       [ 5,  6,  7,  8],\n",
        "       [ 9, 10, 11, 12],\n",
        "       [13, 14, 15, 16]])"
      ]
    },
    {
      "cell_type": "markdown",
      "metadata": {
        "id": "wyNXBC0GAd_G"
      },
      "source": [
        "### 14. Using the array above, write a code that reproduces the desired output shown below.<br>"
      ]
    },
    {
      "cell_type": "code",
      "execution_count": null,
      "metadata": {
        "id": "k6FmQqjxAd_G",
        "outputId": "ce7a34ef-6266-41c9-99dd-85ec84631720"
      },
      "outputs": [
        {
          "data": {
            "text/plain": [
              "array([[ 6,  7],\n",
              "       [10, 11]])"
            ]
          },
          "execution_count": 37,
          "metadata": {},
          "output_type": "execute_result"
        }
      ],
      "source": [
        "a[1:-1,1:-1]\n"
      ]
    },
    {
      "cell_type": "raw",
      "metadata": {
        "id": "M6j3mx9Y1jXO"
      },
      "source": [
        "Desired Output:\n",
        "\n",
        "array([[ 6,  7],\n",
        "       [10, 11]])"
      ]
    },
    {
      "cell_type": "markdown",
      "metadata": {
        "id": "bUShSGkJAd_G"
      },
      "source": [
        "### 15. Get the 1st column (index number 0) of the array above."
      ]
    },
    {
      "cell_type": "code",
      "execution_count": null,
      "metadata": {
        "id": "Wv7YR2drAd_G",
        "outputId": "f91f7dba-efe6-4f1c-f62c-348c18edce58"
      },
      "outputs": [
        {
          "data": {
            "text/plain": [
              "array([ 1,  5,  9, 13])"
            ]
          },
          "execution_count": 38,
          "metadata": {},
          "output_type": "execute_result"
        }
      ],
      "source": [
        "a[:,0]\n"
      ]
    },
    {
      "cell_type": "raw",
      "metadata": {
        "id": "kzoIw3CW1jXP"
      },
      "source": [
        "Desired Output:\n",
        "\n",
        "array([ 1,  5,  9, 13])"
      ]
    },
    {
      "cell_type": "markdown",
      "metadata": {
        "id": "GGdWljRJAd_H"
      },
      "source": [
        "### 16. Get the values in 2nd row (index number 1) for every 2 step."
      ]
    },
    {
      "cell_type": "code",
      "execution_count": null,
      "metadata": {
        "id": "7e6tP0NlAd_H",
        "outputId": "9f87347e-cd6a-4d36-ab1b-e180d13fc3e2"
      },
      "outputs": [
        {
          "data": {
            "text/plain": [
              "array([5, 7])"
            ]
          },
          "execution_count": 39,
          "metadata": {},
          "output_type": "execute_result"
        }
      ],
      "source": [
        "a[1,::2]\n"
      ]
    },
    {
      "cell_type": "raw",
      "metadata": {
        "id": "6r0H6aAI1jXP"
      },
      "source": [
        "Desired Output:\n",
        "\n",
        "array([5, 7])"
      ]
    },
    {
      "cell_type": "markdown",
      "metadata": {
        "id": "aANYlDooAd_H"
      },
      "source": [
        "### 17. Assign 77 to every cell in 3rd column (index number 2)."
      ]
    },
    {
      "cell_type": "code",
      "execution_count": null,
      "metadata": {
        "id": "oy5AxrK1Ad_I",
        "outputId": "4ec6787d-fc49-4f18-a216-ed33b7c3cb19"
      },
      "outputs": [
        {
          "data": {
            "text/plain": [
              "array([[ 1,  2, 77,  4],\n",
              "       [ 5,  6, 77,  8],\n",
              "       [ 9, 10, 77, 12],\n",
              "       [13, 14, 77, 16]])"
            ]
          },
          "execution_count": 40,
          "metadata": {},
          "output_type": "execute_result"
        }
      ],
      "source": [
        "a[:,2] = 77\n",
        "a\n"
      ]
    },
    {
      "cell_type": "raw",
      "metadata": {
        "id": "5EimTJQE1jXQ"
      },
      "source": [
        "Desired Output:\n",
        "\n",
        "array([[ 1,  2, 77,  4],\n",
        "       [ 5,  6, 77,  8],\n",
        "       [ 9, 10, 77, 12],\n",
        "       [13, 14, 77, 16]])"
      ]
    },
    {
      "cell_type": "markdown",
      "metadata": {
        "id": "OsrIo34xAd_I"
      },
      "source": [
        "### 18. (a) Take the value at the 2nd row (index number 1) and 1st column (index number 0) & (b) the value at the 4th row (index number 3) and 3rd column (index number 2) at the same time."
      ]
    },
    {
      "cell_type": "code",
      "execution_count": null,
      "metadata": {
        "id": "fESSmtPDAd_I",
        "outputId": "6d0164a7-5410-4426-db0d-68a8b07afa2b"
      },
      "outputs": [
        {
          "data": {
            "text/plain": [
              "array([ 5, 77])"
            ]
          },
          "execution_count": 41,
          "metadata": {},
          "output_type": "execute_result"
        }
      ],
      "source": [
        "a[[1,3],[0,2]]\n"
      ]
    },
    {
      "cell_type": "raw",
      "metadata": {
        "id": "vqbXvVdw1jXQ"
      },
      "source": [
        "Desired Output:\n",
        "\n",
        "array([ 5, 77])"
      ]
    },
    {
      "cell_type": "markdown",
      "metadata": {
        "id": "dsZDs5vjAd_J"
      },
      "source": [
        "### 19. What are the common values present at the intersection of the second (index number 1) and last (index number 3) row with a step size of 2 and the first (index number 0) and last column with a step size of 2 in the given array?"
      ]
    },
    {
      "cell_type": "code",
      "execution_count": null,
      "metadata": {
        "id": "0IW0GtfCAd_J",
        "outputId": "fd91d002-623c-478c-b1d2-213826860044"
      },
      "outputs": [
        {
          "data": {
            "text/plain": [
              "array([[ 5, 77],\n",
              "       [13, 77]])"
            ]
          },
          "execution_count": 42,
          "metadata": {},
          "output_type": "execute_result"
        }
      ],
      "source": [
        "a[1::2,::2]\n"
      ]
    },
    {
      "cell_type": "raw",
      "metadata": {
        "id": "iduPqNp91jXR"
      },
      "source": [
        "Desired Output:\n",
        "\n",
        "array([[ 5, 77],\n",
        "       [13, 77]])"
      ]
    },
    {
      "cell_type": "markdown",
      "metadata": {
        "id": "G1aoEVaJAd_J"
      },
      "source": [
        "## NumPy Operations"
      ]
    },
    {
      "cell_type": "markdown",
      "metadata": {
        "id": "2p7ZbeTLAd_K"
      },
      "source": [
        "### 20. Get the sum of values smaller than 10 and values bigger than 12 in \"mat\"."
      ]
    },
    {
      "cell_type": "code",
      "execution_count": null,
      "metadata": {
        "id": "ueQtCC9m1jXR",
        "outputId": "5092d4e3-5c31-4523-e9fc-7de61fe55d8c"
      },
      "outputs": [
        {
          "data": {
            "text/plain": [
              "array([78, 79, 81, 18, 20, 85, 25])"
            ]
          },
          "execution_count": 43,
          "metadata": {},
          "output_type": "execute_result"
        }
      ],
      "source": [
        "# LET US REMEMBER OUR ARRAY OF \"mat\"\n",
        "\n",
        "import math\n",
        "b = a[a<10] + a[a>12]\n",
        "b"
      ]
    },
    {
      "cell_type": "raw",
      "metadata": {
        "id": "OdxL74-x1jXS"
      },
      "source": [
        "Desired Output:\n",
        "\n",
        "array([[ 1,  2, 77,  4],\n",
        "       [ 5,  6, 77,  8],\n",
        "       [ 9, 10, 77, 12],\n",
        "       [13, 14, 77, 16]])"
      ]
    },
    {
      "cell_type": "code",
      "execution_count": null,
      "metadata": {
        "id": "LD_0rzT6Ad_K",
        "outputId": "f58e0559-c9f1-4fe6-d429-6101c973351f"
      },
      "outputs": [
        {
          "data": {
            "text/plain": [
              "array([1, 2, 4, 5, 6, 8, 9])"
            ]
          },
          "execution_count": 44,
          "metadata": {},
          "output_type": "execute_result"
        }
      ],
      "source": [
        "# LET US FIND THE VALUES SMALLER THAN 10 IN \"mat\"\n",
        "a[a<10]\n",
        "\n",
        "\n"
      ]
    },
    {
      "cell_type": "raw",
      "metadata": {
        "id": "Kso3urif1jXS"
      },
      "source": [
        "Desired Output:\n",
        "\n",
        "array([1, 2, 4, 5, 6, 8, 9])"
      ]
    },
    {
      "cell_type": "code",
      "execution_count": null,
      "metadata": {
        "id": "RIpotHKeAd_K",
        "outputId": "52a2169e-7d9f-42cb-f63d-5086d2142867"
      },
      "outputs": [
        {
          "data": {
            "text/plain": [
              "array([77, 77, 77, 13, 14, 77, 16])"
            ]
          },
          "execution_count": 45,
          "metadata": {},
          "output_type": "execute_result"
        }
      ],
      "source": [
        "# LET US FIND THE VALUES BIGGER THAN 12 IN \"mat\"\n",
        "a[a>12]\n",
        "\n"
      ]
    },
    {
      "cell_type": "raw",
      "metadata": {
        "id": "9ecmgV-Y1jXS"
      },
      "source": [
        "Desired Output:\n",
        "\n",
        "array([77, 77, 77, 13, 14, 77, 16])"
      ]
    },
    {
      "cell_type": "code",
      "execution_count": null,
      "metadata": {
        "id": "m4XkRQFiAd_K",
        "outputId": "4ed26854-d75b-4ae8-8a8e-35097bbe306d"
      },
      "outputs": [
        {
          "data": {
            "text/plain": [
              "array([78, 79, 81, 18, 20, 85, 25])"
            ]
          },
          "execution_count": 46,
          "metadata": {},
          "output_type": "execute_result"
        }
      ],
      "source": [
        "# LET US SUM THE VALUES SMALLER THAN 10 AND BIGGER THAN 12 IN \"mat\"\n",
        "b = a[a<10] + a[a>12]\n",
        "b\n",
        "\n"
      ]
    },
    {
      "cell_type": "raw",
      "metadata": {
        "id": "5ubj6XuW1jXT"
      },
      "source": [
        "Desired Output:\n",
        "\n",
        "array([78, 79, 81, 18, 20, 85, 25])\n",
        "\n",
        "386"
      ]
    },
    {
      "cell_type": "markdown",
      "metadata": {
        "id": "adWvgD-oAd_L"
      },
      "source": [
        "### 21. Get the standard deviation (std) of the result above."
      ]
    },
    {
      "cell_type": "code",
      "execution_count": null,
      "metadata": {
        "id": "96DAIF1fAd_L",
        "outputId": "27f5488e-f23b-4829-fe19-66e42978d877"
      },
      "outputs": [
        {
          "data": {
            "text/plain": [
              "29.700546274093877"
            ]
          },
          "execution_count": 47,
          "metadata": {},
          "output_type": "execute_result"
        }
      ],
      "source": [
        "b.std()\n"
      ]
    },
    {
      "cell_type": "raw",
      "metadata": {
        "id": "79vdDNEq1jXT"
      },
      "source": [
        "Desired Output:\n",
        "\n",
        "29.700546274093877"
      ]
    },
    {
      "cell_type": "markdown",
      "metadata": {
        "id": "FkhK2cOqAd_L"
      },
      "source": [
        "### 22. Get the sum of the values at the 2nd column (index number 1) in the original \"mat\"."
      ]
    },
    {
      "cell_type": "code",
      "execution_count": null,
      "metadata": {
        "id": "XDQqGSzkAd_M",
        "outputId": "61903400-ac9f-43fd-89e1-ae67a2ebe332"
      },
      "outputs": [
        {
          "data": {
            "text/plain": [
              "array([[ 1,  2, 77,  4],\n",
              "       [ 5,  6, 77,  8],\n",
              "       [ 9, 10, 77, 12],\n",
              "       [13, 14, 77, 16]])"
            ]
          },
          "execution_count": 50,
          "metadata": {},
          "output_type": "execute_result"
        }
      ],
      "source": [
        "# LET US REMEMBER OUR ARRAY OF \"mat\"\n",
        "a\n",
        "\n",
        "\n"
      ]
    },
    {
      "cell_type": "raw",
      "metadata": {
        "id": "X22H3y9G1jXT"
      },
      "source": [
        "Desired Output:\n",
        "\n",
        "array([[ 1,  2, 77,  4],\n",
        "       [ 5,  6, 77,  8],\n",
        "       [ 9, 10, 77, 12],\n",
        "       [13, 14, 77, 16]])"
      ]
    },
    {
      "cell_type": "code",
      "execution_count": null,
      "metadata": {
        "id": "qNeP5ttGAd_M",
        "outputId": "233a9b92-1868-43b2-86d0-f07f27956b8e"
      },
      "outputs": [
        {
          "data": {
            "text/plain": [
              "array([[ 1,  2, 77,  4],\n",
              "       [ 5,  6, 77,  8],\n",
              "       [ 9, 10, 77, 12],\n",
              "       [13, 14, 77, 16]])"
            ]
          },
          "execution_count": 51,
          "metadata": {},
          "output_type": "execute_result"
        }
      ],
      "source": [
        "# LET US GET BACK THE ORIGINAL ARRAY OF \"mat\" AGAIN\n",
        "a\n",
        "\n",
        "\n"
      ]
    },
    {
      "cell_type": "raw",
      "metadata": {
        "id": "6RXsKIGq1jXU"
      },
      "source": [
        "Desired Output:\n",
        "\n",
        "array([[ 1,  2,  3,  4],\n",
        "       [ 5,  6,  7,  8],\n",
        "       [ 9, 10, 11, 12],\n",
        "       [13, 14, 15, 16]])"
      ]
    },
    {
      "cell_type": "code",
      "execution_count": null,
      "metadata": {
        "id": "xzqyV2SZAd_M",
        "outputId": "b6f2fa7a-3b66-4eea-9f2b-20d18450d1c7",
        "scrolled": true
      },
      "outputs": [
        {
          "data": {
            "text/plain": [
              "32"
            ]
          },
          "execution_count": 52,
          "metadata": {},
          "output_type": "execute_result"
        }
      ],
      "source": [
        "a[:,1].sum()"
      ]
    },
    {
      "cell_type": "raw",
      "metadata": {
        "id": "kSSkHG-61jXU"
      },
      "source": [
        "Desired Output:\n",
        "\n",
        "32"
      ]
    },
    {
      "cell_type": "markdown",
      "metadata": {
        "id": "kCQ1GvPUAd_N"
      },
      "source": [
        "### 23. Get the median, mean and std of 3rd column in \"mat\"."
      ]
    },
    {
      "cell_type": "code",
      "execution_count": null,
      "metadata": {
        "id": "ySU9yORs1jXU",
        "outputId": "058b43be-9445-4a12-91a9-5d515e2503d3"
      },
      "outputs": [
        {
          "data": {
            "text/plain": [
              "array([[ 1,  2,  3,  4],\n",
              "       [ 5,  6,  7,  8],\n",
              "       [ 9, 10, 11, 12],\n",
              "       [13, 14, 15, 16]])"
            ]
          },
          "execution_count": 53,
          "metadata": {},
          "output_type": "execute_result"
        }
      ],
      "source": [
        "# LET US REMEMBER OUR ARRAY OF \"mat\"\n",
        "\n",
        "c = np.arange(1,17).reshape(4,4)\n",
        "c\n"
      ]
    },
    {
      "cell_type": "raw",
      "metadata": {
        "id": "E3x9xswz1jXU"
      },
      "source": [
        "Desired Output:\n",
        "\n",
        "array([[ 1,  2,  3,  4],\n",
        "       [ 5,  6,  7,  8],\n",
        "       [ 9, 10, 11, 12],\n",
        "       [13, 14, 15, 16]])"
      ]
    },
    {
      "cell_type": "code",
      "execution_count": null,
      "metadata": {
        "id": "4ZMfyGyY1jXU",
        "outputId": "4ce96792-3c2f-4a33-c5c1-f2de523be81a"
      },
      "outputs": [
        {
          "data": {
            "text/plain": [
              "array([[ 3],\n",
              "       [ 7],\n",
              "       [11],\n",
              "       [15]])"
            ]
          },
          "execution_count": 61,
          "metadata": {},
          "output_type": "execute_result"
        }
      ],
      "source": [
        "# LET US ASSIGN THE COLUMN WE ARE INTERESTED IN TO A VARIABLE\n",
        "c[:, 2].reshape(-1, 1)\n",
        "\n"
      ]
    },
    {
      "cell_type": "raw",
      "metadata": {
        "id": "KMbPBsHy1jXV"
      },
      "source": [
        "Desired Output:\n",
        "\n",
        "array([[ 3],\n",
        "       [ 7],\n",
        "       [11],\n",
        "       [15]])"
      ]
    },
    {
      "cell_type": "code",
      "execution_count": null,
      "metadata": {
        "id": "NnAubpPv1jXV",
        "outputId": "9edd2864-5118-42cb-8054-9adaf5c7569b"
      },
      "outputs": [
        {
          "data": {
            "text/plain": [
              "array([ 9, 10, 11, 12])"
            ]
          },
          "execution_count": 62,
          "metadata": {},
          "output_type": "execute_result"
        }
      ],
      "source": [
        "# WHAT IF WE ARE INTERESTED IN THE 3RD ROW?\n",
        "c[2, :]\n",
        "\n"
      ]
    },
    {
      "cell_type": "raw",
      "metadata": {
        "id": "3ejOMrtx1jXV"
      },
      "source": [
        "Desired Output:\n",
        "\n",
        "array([ 9, 10, 11, 12])"
      ]
    },
    {
      "cell_type": "code",
      "execution_count": null,
      "metadata": {
        "id": "OX4fqkipAd_N",
        "outputId": "d70dee36-5035-4f23-cd4a-e3e679d91171"
      },
      "outputs": [
        {
          "data": {
            "text/plain": [
              "10.5"
            ]
          },
          "execution_count": 57,
          "metadata": {},
          "output_type": "execute_result"
        }
      ],
      "source": [
        "# LET US GET MEDIAN VALUE\n",
        "np.median(c[2,:])\n",
        "\n",
        "\n"
      ]
    },
    {
      "cell_type": "raw",
      "metadata": {
        "id": "RgHK3yka1jXV"
      },
      "source": [
        "Desired Output:\n",
        "\n",
        "9.0\n",
        "10.5"
      ]
    },
    {
      "cell_type": "code",
      "execution_count": null,
      "metadata": {
        "id": "oZpsC7rFAd_N",
        "outputId": "272afc49-f8ae-4ee7-9aee-9556d9310229"
      },
      "outputs": [
        {
          "data": {
            "text/plain": [
              "10.5"
            ]
          },
          "execution_count": 55,
          "metadata": {},
          "output_type": "execute_result"
        }
      ],
      "source": [
        "# LET US GET MEAN VALUE\n",
        "c[2,:].mean()\n",
        "\n",
        "\n"
      ]
    },
    {
      "cell_type": "raw",
      "metadata": {
        "id": "Xhh83hpl1jXV"
      },
      "source": [
        "Desired Output:\n",
        "\n",
        "9.0\n",
        "10.5"
      ]
    },
    {
      "cell_type": "code",
      "execution_count": null,
      "metadata": {
        "id": "g8bveYJuAd_O",
        "outputId": "d31ca21d-f446-455a-dc2b-f5140956203a"
      },
      "outputs": [
        {
          "data": {
            "text/plain": [
              "1.118033988749895"
            ]
          },
          "execution_count": 56,
          "metadata": {},
          "output_type": "execute_result"
        }
      ],
      "source": [
        "# LET US GET STANDART DEVIATION (std) VALUE\n",
        "\n",
        "c[2,:].std()\n",
        "\n"
      ]
    },
    {
      "cell_type": "raw",
      "metadata": {
        "id": "8fz7hltg1jXW"
      },
      "source": [
        "Desired Output:\n",
        "\n",
        "4.47213595499958\n",
        "1.118033988749895"
      ]
    },
    {
      "cell_type": "markdown",
      "metadata": {
        "collapsed": true,
        "id": "gZ5HUfC4Ad_O",
        "jupyter": {
          "outputs_hidden": true
        }
      },
      "source": [
        "## <p style=\"background-color:#9d4f8c; font-family:newtimeroman; color:#FFF9ED; font-size:175%; text-align:center; border-radius:10px 10px;\">Pandas Section</p>\n",
        "\n",
        "<a id=\"1\"></a>\n",
        "<a href=\"#toc\" class=\"btn btn-primary btn-sm\" role=\"button\" aria-pressed=\"true\"\n",
        "style=\"color:blue; background-color:#dfa8e4\" data-toggle=\"popover\">Content</a>"
      ]
    },
    {
      "cell_type": "markdown",
      "metadata": {
        "id": "MthGS_Ys1jXW"
      },
      "source": [
        "### Import Pandas Library"
      ]
    },
    {
      "cell_type": "code",
      "execution_count": null,
      "metadata": {
        "id": "lrbS4u52Ad_P"
      },
      "outputs": [],
      "source": [
        "import pandas as pd\n",
        "\n"
      ]
    },
    {
      "cell_type": "markdown",
      "metadata": {
        "id": "eacrpv_7Ad_P"
      },
      "source": [
        "### Read Salaries.csv and take a look at the first 5 rows, df info and df statistical measurements."
      ]
    },
    {
      "cell_type": "code",
      "execution_count": null,
      "metadata": {
        "id": "OP4b0LcTAd_P"
      },
      "outputs": [],
      "source": [
        "# LET US READ Salaries.csv\n",
        "df = pd.read_csv('Salaries.csv')\n"
      ]
    },
    {
      "cell_type": "code",
      "execution_count": null,
      "metadata": {
        "id": "qc6Tt4loAd_Q",
        "outputId": "443bdbf5-ab4f-44ef-e5d5-bc0a587c5b16"
      },
      "outputs": [
        {
          "data": {
            "text/html": [
              "<div>\n",
              "<style scoped>\n",
              "    .dataframe tbody tr th:only-of-type {\n",
              "        vertical-align: middle;\n",
              "    }\n",
              "\n",
              "    .dataframe tbody tr th {\n",
              "        vertical-align: top;\n",
              "    }\n",
              "\n",
              "    .dataframe thead th {\n",
              "        text-align: right;\n",
              "    }\n",
              "</style>\n",
              "<table border=\"1\" class=\"dataframe\">\n",
              "  <thead>\n",
              "    <tr style=\"text-align: right;\">\n",
              "      <th></th>\n",
              "      <th>Id</th>\n",
              "      <th>EmployeeName</th>\n",
              "      <th>JobTitle</th>\n",
              "      <th>BasePay</th>\n",
              "      <th>OvertimePay</th>\n",
              "      <th>OtherPay</th>\n",
              "      <th>Benefits</th>\n",
              "      <th>TotalPay</th>\n",
              "      <th>TotalPayBenefits</th>\n",
              "      <th>Year</th>\n",
              "      <th>Notes</th>\n",
              "      <th>Agency</th>\n",
              "      <th>Status</th>\n",
              "    </tr>\n",
              "  </thead>\n",
              "  <tbody>\n",
              "    <tr>\n",
              "      <th>0</th>\n",
              "      <td>1</td>\n",
              "      <td>NATHANIEL FORD</td>\n",
              "      <td>GENERAL MANAGER-METROPOLITAN TRANSIT AUTHORITY</td>\n",
              "      <td>167411.18</td>\n",
              "      <td>0.00</td>\n",
              "      <td>400184.25</td>\n",
              "      <td>NaN</td>\n",
              "      <td>567595.43</td>\n",
              "      <td>567595.43</td>\n",
              "      <td>2011</td>\n",
              "      <td>NaN</td>\n",
              "      <td>San Francisco</td>\n",
              "      <td>NaN</td>\n",
              "    </tr>\n",
              "    <tr>\n",
              "      <th>1</th>\n",
              "      <td>2</td>\n",
              "      <td>GARY JIMENEZ</td>\n",
              "      <td>CAPTAIN III (POLICE DEPARTMENT)</td>\n",
              "      <td>155966.02</td>\n",
              "      <td>245131.88</td>\n",
              "      <td>137811.38</td>\n",
              "      <td>NaN</td>\n",
              "      <td>538909.28</td>\n",
              "      <td>538909.28</td>\n",
              "      <td>2011</td>\n",
              "      <td>NaN</td>\n",
              "      <td>San Francisco</td>\n",
              "      <td>NaN</td>\n",
              "    </tr>\n",
              "    <tr>\n",
              "      <th>2</th>\n",
              "      <td>3</td>\n",
              "      <td>ALBERT PARDINI</td>\n",
              "      <td>CAPTAIN III (POLICE DEPARTMENT)</td>\n",
              "      <td>212739.13</td>\n",
              "      <td>106088.18</td>\n",
              "      <td>16452.60</td>\n",
              "      <td>NaN</td>\n",
              "      <td>335279.91</td>\n",
              "      <td>335279.91</td>\n",
              "      <td>2011</td>\n",
              "      <td>NaN</td>\n",
              "      <td>San Francisco</td>\n",
              "      <td>NaN</td>\n",
              "    </tr>\n",
              "    <tr>\n",
              "      <th>3</th>\n",
              "      <td>4</td>\n",
              "      <td>CHRISTOPHER CHONG</td>\n",
              "      <td>WIRE ROPE CABLE MAINTENANCE MECHANIC</td>\n",
              "      <td>77916.00</td>\n",
              "      <td>56120.71</td>\n",
              "      <td>198306.90</td>\n",
              "      <td>NaN</td>\n",
              "      <td>332343.61</td>\n",
              "      <td>332343.61</td>\n",
              "      <td>2011</td>\n",
              "      <td>NaN</td>\n",
              "      <td>San Francisco</td>\n",
              "      <td>NaN</td>\n",
              "    </tr>\n",
              "    <tr>\n",
              "      <th>4</th>\n",
              "      <td>5</td>\n",
              "      <td>PATRICK GARDNER</td>\n",
              "      <td>DEPUTY CHIEF OF DEPARTMENT,(FIRE DEPARTMENT)</td>\n",
              "      <td>134401.60</td>\n",
              "      <td>9737.00</td>\n",
              "      <td>182234.59</td>\n",
              "      <td>NaN</td>\n",
              "      <td>326373.19</td>\n",
              "      <td>326373.19</td>\n",
              "      <td>2011</td>\n",
              "      <td>NaN</td>\n",
              "      <td>San Francisco</td>\n",
              "      <td>NaN</td>\n",
              "    </tr>\n",
              "  </tbody>\n",
              "</table>\n",
              "</div>"
            ],
            "text/plain": [
              "   Id       EmployeeName                                        JobTitle  \\\n",
              "0   1     NATHANIEL FORD  GENERAL MANAGER-METROPOLITAN TRANSIT AUTHORITY   \n",
              "1   2       GARY JIMENEZ                 CAPTAIN III (POLICE DEPARTMENT)   \n",
              "2   3     ALBERT PARDINI                 CAPTAIN III (POLICE DEPARTMENT)   \n",
              "3   4  CHRISTOPHER CHONG            WIRE ROPE CABLE MAINTENANCE MECHANIC   \n",
              "4   5    PATRICK GARDNER    DEPUTY CHIEF OF DEPARTMENT,(FIRE DEPARTMENT)   \n",
              "\n",
              "     BasePay  OvertimePay   OtherPay  Benefits   TotalPay  TotalPayBenefits  \\\n",
              "0  167411.18         0.00  400184.25       NaN  567595.43         567595.43   \n",
              "1  155966.02    245131.88  137811.38       NaN  538909.28         538909.28   \n",
              "2  212739.13    106088.18   16452.60       NaN  335279.91         335279.91   \n",
              "3   77916.00     56120.71  198306.90       NaN  332343.61         332343.61   \n",
              "4  134401.60      9737.00  182234.59       NaN  326373.19         326373.19   \n",
              "\n",
              "   Year  Notes         Agency  Status  \n",
              "0  2011    NaN  San Francisco     NaN  \n",
              "1  2011    NaN  San Francisco     NaN  \n",
              "2  2011    NaN  San Francisco     NaN  \n",
              "3  2011    NaN  San Francisco     NaN  \n",
              "4  2011    NaN  San Francisco     NaN  "
            ]
          },
          "execution_count": 66,
          "metadata": {},
          "output_type": "execute_result"
        }
      ],
      "source": [
        "# LET US LOOK AT THE FIRST 5 ROWS\n",
        "\n",
        "df.head()\n",
        "\n"
      ]
    },
    {
      "cell_type": "markdown",
      "metadata": {
        "id": "Y0mZD2me1jXX"
      },
      "source": [
        "Desired Output:\n",
        "\n",
        "![image.png](https://i.ibb.co/6BTmGX8/assignment1a.png)"
      ]
    },
    {
      "cell_type": "code",
      "execution_count": null,
      "metadata": {
        "id": "YwUmq9IAAd_Q",
        "outputId": "11809d16-9c82-46c6-b5a5-202c2dafac02"
      },
      "outputs": [
        {
          "data": {
            "text/html": [
              "<div>\n",
              "<style scoped>\n",
              "    .dataframe tbody tr th:only-of-type {\n",
              "        vertical-align: middle;\n",
              "    }\n",
              "\n",
              "    .dataframe tbody tr th {\n",
              "        vertical-align: top;\n",
              "    }\n",
              "\n",
              "    .dataframe thead th {\n",
              "        text-align: right;\n",
              "    }\n",
              "</style>\n",
              "<table border=\"1\" class=\"dataframe\">\n",
              "  <thead>\n",
              "    <tr style=\"text-align: right;\">\n",
              "      <th></th>\n",
              "      <th>Id</th>\n",
              "      <th>EmployeeName</th>\n",
              "      <th>JobTitle</th>\n",
              "      <th>BasePay</th>\n",
              "      <th>OvertimePay</th>\n",
              "      <th>OtherPay</th>\n",
              "      <th>Benefits</th>\n",
              "      <th>TotalPay</th>\n",
              "      <th>TotalPayBenefits</th>\n",
              "      <th>Year</th>\n",
              "      <th>Notes</th>\n",
              "      <th>Agency</th>\n",
              "      <th>Status</th>\n",
              "    </tr>\n",
              "  </thead>\n",
              "  <tbody>\n",
              "    <tr>\n",
              "      <th>84835</th>\n",
              "      <td>84836</td>\n",
              "      <td>Cynthia L Li</td>\n",
              "      <td>Protective Services Worker</td>\n",
              "      <td>95229.05</td>\n",
              "      <td>0.0</td>\n",
              "      <td>1400.0</td>\n",
              "      <td>32888.01</td>\n",
              "      <td>96629.05</td>\n",
              "      <td>129517.06</td>\n",
              "      <td>2013</td>\n",
              "      <td>NaN</td>\n",
              "      <td>San Francisco</td>\n",
              "      <td>NaN</td>\n",
              "    </tr>\n",
              "  </tbody>\n",
              "</table>\n",
              "</div>"
            ],
            "text/plain": [
              "          Id  EmployeeName                    JobTitle   BasePay  OvertimePay  \\\n",
              "84835  84836  Cynthia L Li  Protective Services Worker  95229.05          0.0   \n",
              "\n",
              "       OtherPay  Benefits  TotalPay  TotalPayBenefits  Year  Notes  \\\n",
              "84835    1400.0  32888.01  96629.05         129517.06  2013    NaN   \n",
              "\n",
              "              Agency  Status  \n",
              "84835  San Francisco     NaN  "
            ]
          },
          "execution_count": 84,
          "metadata": {},
          "output_type": "execute_result"
        }
      ],
      "source": [
        "# LET US GET A SAMPLE\n",
        "\n",
        "df.sample()\n",
        "\n"
      ]
    },
    {
      "cell_type": "markdown",
      "metadata": {
        "id": "e7_h-KzX1jXX"
      },
      "source": [
        "Desired Output (WATCH OUT! Your output may NOT be the same as the one):\n",
        "\n",
        "![image.png](https://i.ibb.co/mcsCxxC/assignment1b.png)"
      ]
    },
    {
      "cell_type": "code",
      "execution_count": null,
      "metadata": {
        "id": "WuXy195gAd_Q",
        "outputId": "830b246c-d81f-4a7a-f924-7243970bb3c1"
      },
      "outputs": [
        {
          "name": "stdout",
          "output_type": "stream",
          "text": [
            "<class 'pandas.core.frame.DataFrame'>\n",
            "RangeIndex: 148654 entries, 0 to 148653\n",
            "Data columns (total 13 columns):\n",
            " #   Column            Non-Null Count   Dtype  \n",
            "---  ------            --------------   -----  \n",
            " 0   Id                148654 non-null  int64  \n",
            " 1   EmployeeName      148654 non-null  object \n",
            " 2   JobTitle          148654 non-null  object \n",
            " 3   BasePay           148045 non-null  float64\n",
            " 4   OvertimePay       148650 non-null  float64\n",
            " 5   OtherPay          148650 non-null  float64\n",
            " 6   Benefits          112491 non-null  float64\n",
            " 7   TotalPay          148654 non-null  float64\n",
            " 8   TotalPayBenefits  148654 non-null  float64\n",
            " 9   Year              148654 non-null  int64  \n",
            " 10  Notes             0 non-null       float64\n",
            " 11  Agency            148654 non-null  object \n",
            " 12  Status            0 non-null       float64\n",
            "dtypes: float64(8), int64(2), object(3)\n",
            "memory usage: 14.7+ MB\n"
          ]
        }
      ],
      "source": [
        "df.info()\n",
        "\n"
      ]
    },
    {
      "cell_type": "raw",
      "metadata": {
        "id": "kxhLPc-41jXX"
      },
      "source": [
        "Desired Output:\n",
        "\n",
        "<class 'pandas.core.frame.DataFrame'>\n",
        "RangeIndex: 148654 entries, 0 to 148653\n",
        "Data columns (total 13 columns):\n",
        " #   Column            Non-Null Count   Dtype\n",
        "---  ------            --------------   -----\n",
        " 0   Id                148654 non-null  int64\n",
        " 1   EmployeeName      148654 non-null  object\n",
        " 2   JobTitle          148654 non-null  object\n",
        " 3   BasePay           148045 non-null  float64\n",
        " 4   OvertimePay       148650 non-null  float64\n",
        " 5   OtherPay          148650 non-null  float64\n",
        " 6   Benefits          112491 non-null  float64\n",
        " 7   TotalPay          148654 non-null  float64\n",
        " 8   TotalPayBenefits  148654 non-null  float64\n",
        " 9   Year              148654 non-null  int64\n",
        " 10  Notes             0 non-null       float64\n",
        " 11  Agency            148654 non-null  object\n",
        " 12  Status            0 non-null       float64\n",
        "dtypes: float64(8), int64(2), object(3)\n",
        "memory usage: 14.7+ MB"
      ]
    },
    {
      "cell_type": "code",
      "execution_count": null,
      "metadata": {
        "id": "02GV54nZAd_R",
        "outputId": "b92e42c4-eb71-4245-ec07-d1bb3ec957c2"
      },
      "outputs": [
        {
          "data": {
            "text/html": [
              "<div>\n",
              "<style scoped>\n",
              "    .dataframe tbody tr th:only-of-type {\n",
              "        vertical-align: middle;\n",
              "    }\n",
              "\n",
              "    .dataframe tbody tr th {\n",
              "        vertical-align: top;\n",
              "    }\n",
              "\n",
              "    .dataframe thead th {\n",
              "        text-align: right;\n",
              "    }\n",
              "</style>\n",
              "<table border=\"1\" class=\"dataframe\">\n",
              "  <thead>\n",
              "    <tr style=\"text-align: right;\">\n",
              "      <th></th>\n",
              "      <th>Id</th>\n",
              "      <th>BasePay</th>\n",
              "      <th>OvertimePay</th>\n",
              "      <th>OtherPay</th>\n",
              "      <th>Benefits</th>\n",
              "      <th>TotalPay</th>\n",
              "      <th>TotalPayBenefits</th>\n",
              "      <th>Year</th>\n",
              "      <th>Notes</th>\n",
              "      <th>Status</th>\n",
              "    </tr>\n",
              "  </thead>\n",
              "  <tbody>\n",
              "    <tr>\n",
              "      <th>count</th>\n",
              "      <td>148654.000000</td>\n",
              "      <td>148045.000000</td>\n",
              "      <td>148650.000000</td>\n",
              "      <td>148650.000000</td>\n",
              "      <td>112491.000000</td>\n",
              "      <td>148654.000000</td>\n",
              "      <td>148654.000000</td>\n",
              "      <td>148654.000000</td>\n",
              "      <td>0.0</td>\n",
              "      <td>0.0</td>\n",
              "    </tr>\n",
              "    <tr>\n",
              "      <th>mean</th>\n",
              "      <td>74327.500000</td>\n",
              "      <td>66325.448840</td>\n",
              "      <td>5066.059886</td>\n",
              "      <td>3648.767297</td>\n",
              "      <td>25007.893151</td>\n",
              "      <td>74768.321972</td>\n",
              "      <td>93692.554811</td>\n",
              "      <td>2012.522643</td>\n",
              "      <td>NaN</td>\n",
              "      <td>NaN</td>\n",
              "    </tr>\n",
              "    <tr>\n",
              "      <th>std</th>\n",
              "      <td>42912.857795</td>\n",
              "      <td>42764.635495</td>\n",
              "      <td>11454.380559</td>\n",
              "      <td>8056.601866</td>\n",
              "      <td>15402.215858</td>\n",
              "      <td>50517.005274</td>\n",
              "      <td>62793.533483</td>\n",
              "      <td>1.117538</td>\n",
              "      <td>NaN</td>\n",
              "      <td>NaN</td>\n",
              "    </tr>\n",
              "    <tr>\n",
              "      <th>min</th>\n",
              "      <td>1.000000</td>\n",
              "      <td>-166.010000</td>\n",
              "      <td>-0.010000</td>\n",
              "      <td>-7058.590000</td>\n",
              "      <td>-33.890000</td>\n",
              "      <td>-618.130000</td>\n",
              "      <td>-618.130000</td>\n",
              "      <td>2011.000000</td>\n",
              "      <td>NaN</td>\n",
              "      <td>NaN</td>\n",
              "    </tr>\n",
              "    <tr>\n",
              "      <th>25%</th>\n",
              "      <td>37164.250000</td>\n",
              "      <td>33588.200000</td>\n",
              "      <td>0.000000</td>\n",
              "      <td>0.000000</td>\n",
              "      <td>11535.395000</td>\n",
              "      <td>36168.995000</td>\n",
              "      <td>44065.650000</td>\n",
              "      <td>2012.000000</td>\n",
              "      <td>NaN</td>\n",
              "      <td>NaN</td>\n",
              "    </tr>\n",
              "    <tr>\n",
              "      <th>50%</th>\n",
              "      <td>74327.500000</td>\n",
              "      <td>65007.450000</td>\n",
              "      <td>0.000000</td>\n",
              "      <td>811.270000</td>\n",
              "      <td>28628.620000</td>\n",
              "      <td>71426.610000</td>\n",
              "      <td>92404.090000</td>\n",
              "      <td>2013.000000</td>\n",
              "      <td>NaN</td>\n",
              "      <td>NaN</td>\n",
              "    </tr>\n",
              "    <tr>\n",
              "      <th>75%</th>\n",
              "      <td>111490.750000</td>\n",
              "      <td>94691.050000</td>\n",
              "      <td>4658.175000</td>\n",
              "      <td>4236.065000</td>\n",
              "      <td>35566.855000</td>\n",
              "      <td>105839.135000</td>\n",
              "      <td>132876.450000</td>\n",
              "      <td>2014.000000</td>\n",
              "      <td>NaN</td>\n",
              "      <td>NaN</td>\n",
              "    </tr>\n",
              "    <tr>\n",
              "      <th>max</th>\n",
              "      <td>148654.000000</td>\n",
              "      <td>319275.010000</td>\n",
              "      <td>245131.880000</td>\n",
              "      <td>400184.250000</td>\n",
              "      <td>96570.660000</td>\n",
              "      <td>567595.430000</td>\n",
              "      <td>567595.430000</td>\n",
              "      <td>2014.000000</td>\n",
              "      <td>NaN</td>\n",
              "      <td>NaN</td>\n",
              "    </tr>\n",
              "  </tbody>\n",
              "</table>\n",
              "</div>"
            ],
            "text/plain": [
              "                  Id        BasePay    OvertimePay       OtherPay  \\\n",
              "count  148654.000000  148045.000000  148650.000000  148650.000000   \n",
              "mean    74327.500000   66325.448840    5066.059886    3648.767297   \n",
              "std     42912.857795   42764.635495   11454.380559    8056.601866   \n",
              "min         1.000000    -166.010000      -0.010000   -7058.590000   \n",
              "25%     37164.250000   33588.200000       0.000000       0.000000   \n",
              "50%     74327.500000   65007.450000       0.000000     811.270000   \n",
              "75%    111490.750000   94691.050000    4658.175000    4236.065000   \n",
              "max    148654.000000  319275.010000  245131.880000  400184.250000   \n",
              "\n",
              "            Benefits       TotalPay  TotalPayBenefits           Year  Notes  \\\n",
              "count  112491.000000  148654.000000     148654.000000  148654.000000    0.0   \n",
              "mean    25007.893151   74768.321972      93692.554811    2012.522643    NaN   \n",
              "std     15402.215858   50517.005274      62793.533483       1.117538    NaN   \n",
              "min       -33.890000    -618.130000       -618.130000    2011.000000    NaN   \n",
              "25%     11535.395000   36168.995000      44065.650000    2012.000000    NaN   \n",
              "50%     28628.620000   71426.610000      92404.090000    2013.000000    NaN   \n",
              "75%     35566.855000  105839.135000     132876.450000    2014.000000    NaN   \n",
              "max     96570.660000  567595.430000     567595.430000    2014.000000    NaN   \n",
              "\n",
              "       Status  \n",
              "count     0.0  \n",
              "mean      NaN  \n",
              "std       NaN  \n",
              "min       NaN  \n",
              "25%       NaN  \n",
              "50%       NaN  \n",
              "75%       NaN  \n",
              "max       NaN  "
            ]
          },
          "execution_count": 81,
          "metadata": {},
          "output_type": "execute_result"
        }
      ],
      "source": [
        "# LET US GET SOME DESCRIPTIVE MEASUREMENTS\n",
        "\n",
        "df.describe()\n",
        "\n"
      ]
    },
    {
      "cell_type": "markdown",
      "metadata": {
        "id": "5T9QG3G31jXX"
      },
      "source": [
        "Desired Output:\n",
        "\n",
        "![image.png](https://i.ibb.co/ftMP67H/assignmnet1c.png)"
      ]
    },
    {
      "cell_type": "markdown",
      "metadata": {
        "id": "vIWqIPCdAd_R"
      },
      "source": [
        "### How many different year values are there?"
      ]
    },
    {
      "cell_type": "code",
      "execution_count": null,
      "metadata": {
        "id": "8S6I4iDj1jXY",
        "outputId": "db44f8c3-3737-460a-9231-85dd61a0a776"
      },
      "outputs": [
        {
          "data": {
            "text/plain": [
              "Year\n",
              "2014    38123\n",
              "2013    37606\n",
              "2012    36766\n",
              "2011    36159\n",
              "Name: count, dtype: int64"
            ]
          },
          "execution_count": 82,
          "metadata": {},
          "output_type": "execute_result"
        }
      ],
      "source": [
        "df.Year.value_counts(dropna=False)\n"
      ]
    },
    {
      "cell_type": "raw",
      "metadata": {
        "id": "SSdQ_cne1jXY"
      },
      "source": [
        "Desired Output:\n",
        "\n",
        "2014    38123\n",
        "2013    37606\n",
        "2012    36766\n",
        "2011    36159\n",
        "Name: Year, dtype: int64"
      ]
    },
    {
      "cell_type": "code",
      "execution_count": null,
      "metadata": {
        "id": "_QXgY1bWAd_S",
        "outputId": "98da7894-fd91-4316-f89c-237a827112df"
      },
      "outputs": [
        {
          "data": {
            "text/plain": [
              "4"
            ]
          },
          "execution_count": 92,
          "metadata": {},
          "output_type": "execute_result"
        }
      ],
      "source": [
        "# LET US FIND THE NUMBER OF UNIQUE VALUES IN THE COLUMN OF \"Year\"\n",
        "\n",
        "pd.Series([36159, 36766, 37606, 38123], index=[2011, 2012, 2013, 2014], name='count')\n",
        "data.index.nunique()\n",
        "\n"
      ]
    },
    {
      "cell_type": "raw",
      "metadata": {
        "id": "fY3ItNVu1jXY"
      },
      "source": [
        "Desired Output:\n",
        "\n",
        "4"
      ]
    },
    {
      "cell_type": "code",
      "execution_count": null,
      "metadata": {
        "id": "IuZPAcUf1jXY",
        "outputId": "f2a2edcf-4106-4420-b2da-cc2506e66e24"
      },
      "outputs": [
        {
          "data": {
            "text/plain": [
              "array([2011, 2012, 2013, 2014], dtype=int64)"
            ]
          },
          "execution_count": 91,
          "metadata": {},
          "output_type": "execute_result"
        }
      ],
      "source": [
        "# LET US FIND THE UNIQUE VALUES IN THE COLUMN OF \"Year\"\n",
        "data = pd.Series([36159, 36766, 37606, 38123], index=[2011, 2012, 2013, 2014], name='count')\n",
        "data.index.values\n"
      ]
    },
    {
      "cell_type": "raw",
      "metadata": {
        "id": "5V-x2eLI1jXY"
      },
      "source": [
        "Desired Output:\n",
        "\n",
        "array([2011, 2012, 2013, 2014], dtype=int64)\n"
      ]
    },
    {
      "cell_type": "markdown",
      "metadata": {
        "id": "3KfOM05LAd_S"
      },
      "source": [
        "### Print out max and avg values in the column of \"Totalpay\"."
      ]
    },
    {
      "cell_type": "code",
      "execution_count": null,
      "metadata": {
        "id": "gZM_k1oGAd_S",
        "outputId": "bce64586-4b62-4f22-e879-a47a7831f03c"
      },
      "outputs": [
        {
          "data": {
            "text/plain": [
              "567595.43"
            ]
          },
          "execution_count": 79,
          "metadata": {},
          "output_type": "execute_result"
        }
      ],
      "source": [
        "# LET US FIND THE MAXIMUM TOTALPAY\n",
        "\n",
        "df['TotalPay'].max()\n",
        "#df.TotalPay.max()\n"
      ]
    },
    {
      "cell_type": "raw",
      "metadata": {
        "id": "X_-sc3fa1jXZ"
      },
      "source": [
        "Desired Output:\n",
        "\n",
        "567595.43"
      ]
    },
    {
      "cell_type": "code",
      "execution_count": null,
      "metadata": {
        "id": "5QVwTgbKAd_S",
        "outputId": "54d842db-c1f0-447e-bf87-edb90069954a"
      },
      "outputs": [
        {
          "data": {
            "text/plain": [
              "74768.32197169267"
            ]
          },
          "execution_count": 78,
          "metadata": {},
          "output_type": "execute_result"
        }
      ],
      "source": [
        "# LET US FIND THE AVERAGE TOTALPAY\n",
        "\n",
        "df['TotalPay'].mean()\n",
        "# df.TotalPay.mean()\n",
        "\n"
      ]
    },
    {
      "cell_type": "raw",
      "metadata": {
        "id": "bB7_wc-I1jXZ"
      },
      "source": [
        "Desired Output:\n",
        "\n",
        "74768.321971703"
      ]
    },
    {
      "cell_type": "markdown",
      "metadata": {
        "id": "PBH4LugjAd_T"
      },
      "source": [
        "### How many records in the TotalPay column are there bigger than avg TotalPay?"
      ]
    },
    {
      "cell_type": "code",
      "execution_count": null,
      "metadata": {
        "id": "7MbrAVMe1jXZ",
        "outputId": "4268971a-94b3-4c6b-ab76-ae911ec7722c"
      },
      "outputs": [
        {
          "data": {
            "text/plain": [
              "69489"
            ]
          },
          "execution_count": 94,
          "metadata": {},
          "output_type": "execute_result"
        }
      ],
      "source": []
    },
    {
      "cell_type": "markdown",
      "metadata": {
        "id": "WJL6a89J1jXZ"
      },
      "source": [
        "Desired Output:\n",
        "\n",
        "![image.png](https://i.ibb.co/nj84FbZ/assignment1d.png)"
      ]
    },
    {
      "cell_type": "code",
      "execution_count": null,
      "metadata": {
        "id": "DzLK-P0zAd_T",
        "outputId": "f0d76683-fe24-4258-e727-57357e7c3041"
      },
      "outputs": [
        {
          "data": {
            "text/plain": [
              "69489"
            ]
          },
          "execution_count": 77,
          "metadata": {},
          "output_type": "execute_result"
        }
      ],
      "source": [
        "len(df[df['TotalPay'] > df['TotalPay'].mean()])"
      ]
    },
    {
      "cell_type": "raw",
      "metadata": {
        "id": "REBSIOEo1jXa"
      },
      "source": [
        "Desired Output:\n",
        "\n",
        "69489"
      ]
    },
    {
      "cell_type": "markdown",
      "metadata": {
        "id": "msGIAyWWAd_T"
      },
      "source": [
        "### How much does ALBERT PARDINI make money (including extras, benefits, etc)?"
      ]
    },
    {
      "cell_type": "code",
      "execution_count": null,
      "metadata": {
        "id": "Lp85lU0cAd_T",
        "outputId": "526b4b46-9810-474e-a1d1-715dc204be2d"
      },
      "outputs": [
        {
          "data": {
            "text/plain": [
              "2    335279.91\n",
              "Name: TotalPayBenefits, dtype: float64"
            ]
          },
          "execution_count": 76,
          "metadata": {},
          "output_type": "execute_result"
        }
      ],
      "source": [
        "df['TotalPayBenefits'][df['EmployeeName'] == 'ALBERT PARDINI']\n",
        "df[df.EmployeeName=='ALBERT PARDINI'].TotalPayBenefits\n",
        "\n"
      ]
    },
    {
      "cell_type": "raw",
      "metadata": {
        "id": "fPnoK1EH1jXa"
      },
      "source": [
        "Desired Output:\n",
        "\n",
        "2    335279.91\n",
        "Name: TotalPayBenefits, dtype: float64"
      ]
    },
    {
      "cell_type": "markdown",
      "metadata": {
        "id": "EhGLJuApAd_U"
      },
      "source": [
        "### Who is the lowest paid person?"
      ]
    },
    {
      "cell_type": "code",
      "execution_count": null,
      "metadata": {
        "id": "9x8QkcP2Ad_U",
        "outputId": "3aea1cb4-3d2d-4b10-fe3a-329d2cd596ef"
      },
      "outputs": [
        {
          "data": {
            "text/plain": [
              "148653    Joe Lopez\n",
              "Name: EmployeeName, dtype: object"
            ]
          },
          "execution_count": 75,
          "metadata": {},
          "output_type": "execute_result"
        }
      ],
      "source": [
        "min_pay = df.TotalPayBenefits.min()\n",
        "df[df['TotalPayBenefits'] == min_pay]['EmployeeName']\n"
      ]
    },
    {
      "cell_type": "raw",
      "metadata": {
        "id": "RBVTJf6h1jXa"
      },
      "source": [
        "Desired Output:\n",
        "\n",
        "148653    Joe Lopez\n",
        "Name: EmployeeName, dtype: object"
      ]
    },
    {
      "cell_type": "markdown",
      "metadata": {
        "id": "KX1hSaoCAd_U"
      },
      "source": [
        "### What are the unique Jobs in dataset?"
      ]
    },
    {
      "cell_type": "code",
      "execution_count": null,
      "metadata": {
        "id": "O97fqU91Ad_U",
        "outputId": "970195ac-012b-42ce-f252-453c0f62691e"
      },
      "outputs": [
        {
          "data": {
            "text/plain": [
              "array(['GENERAL MANAGER-METROPOLITAN TRANSIT AUTHORITY',\n",
              "       'CAPTAIN III (POLICE DEPARTMENT)',\n",
              "       'WIRE ROPE CABLE MAINTENANCE MECHANIC', ..., 'Conversion',\n",
              "       'Cashier 3', 'Not provided'], dtype=object)"
            ]
          },
          "execution_count": 73,
          "metadata": {},
          "output_type": "execute_result"
        }
      ],
      "source": [
        "df['JobTitle'].unique()\n"
      ]
    },
    {
      "cell_type": "raw",
      "metadata": {
        "id": "Vd9b2M2s1jXb"
      },
      "source": [
        "Desired Output:\n",
        "\n",
        "array(['GENERAL MANAGER-METROPOLITAN TRANSIT AUTHORITY',\n",
        "       'CAPTAIN III (POLICE DEPARTMENT)',\n",
        "       'WIRE ROPE CABLE MAINTENANCE MECHANIC', ..., 'Conversion',\n",
        "       'Cashier 3', 'Not provided'], dtype=object)"
      ]
    },
    {
      "cell_type": "markdown",
      "metadata": {
        "id": "CsYDrYVDAd_V"
      },
      "source": [
        "### List the top 3 least common Jobs in the dataset."
      ]
    },
    {
      "cell_type": "code",
      "execution_count": null,
      "metadata": {
        "id": "DsZuPQVeAd_V",
        "outputId": "a51a0a95-4de9-445c-86ac-24c267504907"
      },
      "outputs": [
        {
          "data": {
            "text/plain": [
              "JobTitle\n",
              "COURT COMPUTER FACILITIES COORDINATOR             1\n",
              "AUTOMOTIVE BODY AND FENDER WORKER SUPERVISOR I    1\n",
              "VICTIM & WITNESS TECHNICIAN                       1\n",
              "Name: count, dtype: int64"
            ]
          },
          "execution_count": 72,
          "metadata": {},
          "output_type": "execute_result"
        }
      ],
      "source": [
        "df['JobTitle'].value_counts().tail(3)\n",
        "\n"
      ]
    },
    {
      "cell_type": "raw",
      "metadata": {
        "id": "SLVChLb01jXb"
      },
      "source": [
        "Desired Output:\n",
        "\n",
        "COURT COMPUTER FACILITIES COORDINATOR             1\n",
        "AUTOMOTIVE BODY AND FENDER WORKER SUPERVISOR I    1\n",
        "VICTIM & WITNESS TECHNICIAN                       1\n",
        "Name: JobTitle, dtype: int64"
      ]
    },
    {
      "cell_type": "markdown",
      "metadata": {
        "id": "6bY1SKD1Ad_V"
      },
      "source": [
        "### How many people earned more than avg in 2012? (including extras, benefits, etc)"
      ]
    },
    {
      "cell_type": "code",
      "execution_count": null,
      "metadata": {
        "id": "W9yhfXieAd_W",
        "outputId": "c2acaf63-1f70-454f-b2b9-cac160152735"
      },
      "outputs": [
        {
          "data": {
            "text/plain": [
              "20366"
            ]
          },
          "execution_count": 71,
          "metadata": {},
          "output_type": "execute_result"
        }
      ],
      "source": [
        "df['Id'][(df['TotalPayBenefits'] > df['TotalPayBenefits'].mean()) &\n",
        "         (df['Year'] == 2012)].count()"
      ]
    },
    {
      "cell_type": "raw",
      "metadata": {
        "id": "ps4U7-hh1jXc"
      },
      "source": [
        "Desired Output:\n",
        "\n",
        "19887"
      ]
    },
    {
      "cell_type": "markdown",
      "metadata": {
        "id": "EM6JCaT-Ad_W"
      },
      "source": [
        "### How many people have a title of Manager in their jobs?"
      ]
    },
    {
      "cell_type": "code",
      "execution_count": null,
      "metadata": {
        "id": "RjCxcXEWAd_Y",
        "outputId": "772fdb70-2933-41bd-9739-c8f32150dc9d"
      },
      "outputs": [
        {
          "data": {
            "text/plain": [
              "4110"
            ]
          },
          "execution_count": 70,
          "metadata": {},
          "output_type": "execute_result"
        }
      ],
      "source": [
        "# USE APPLY FUNCTION FOR THIS QUESTION!\n",
        "\n",
        "df.apply(lambda x: x.str.contains('Manager', case=False)\n",
        "             if x.name in ['JobTitle'] else x)['JobTitle'].sum()\n",
        "\n"
      ]
    },
    {
      "cell_type": "raw",
      "metadata": {
        "id": "IrH3kYrF1jXc"
      },
      "source": [
        "Desired Output:\n",
        "\n",
        "4110"
      ]
    },
    {
      "cell_type": "markdown",
      "metadata": {
        "id": "UsSkiFyVAd_Y"
      },
      "source": [
        "### Take Id, EmployeeName, JobTitle, TotalPay and TotalPayBenefits columns with iloc and assign them as sal_new dataframe."
      ]
    },
    {
      "cell_type": "code",
      "execution_count": null,
      "metadata": {
        "id": "31MPBM2UAd_Y",
        "outputId": "738da284-2164-4f5c-f91d-2bfe45b4f73c"
      },
      "outputs": [
        {
          "data": {
            "text/html": [
              "<div>\n",
              "<style scoped>\n",
              "    .dataframe tbody tr th:only-of-type {\n",
              "        vertical-align: middle;\n",
              "    }\n",
              "\n",
              "    .dataframe tbody tr th {\n",
              "        vertical-align: top;\n",
              "    }\n",
              "\n",
              "    .dataframe thead th {\n",
              "        text-align: right;\n",
              "    }\n",
              "</style>\n",
              "<table border=\"1\" class=\"dataframe\">\n",
              "  <thead>\n",
              "    <tr style=\"text-align: right;\">\n",
              "      <th></th>\n",
              "      <th>Id</th>\n",
              "      <th>EmployeeName</th>\n",
              "      <th>JobTitle</th>\n",
              "      <th>TotalPay</th>\n",
              "      <th>TotalPayBenefits</th>\n",
              "    </tr>\n",
              "  </thead>\n",
              "  <tbody>\n",
              "    <tr>\n",
              "      <th>0</th>\n",
              "      <td>1</td>\n",
              "      <td>NATHANIEL FORD</td>\n",
              "      <td>GENERAL MANAGER-METROPOLITAN TRANSIT AUTHORITY</td>\n",
              "      <td>567595.43</td>\n",
              "      <td>567595.43</td>\n",
              "    </tr>\n",
              "    <tr>\n",
              "      <th>1</th>\n",
              "      <td>2</td>\n",
              "      <td>GARY JIMENEZ</td>\n",
              "      <td>CAPTAIN III (POLICE DEPARTMENT)</td>\n",
              "      <td>538909.28</td>\n",
              "      <td>538909.28</td>\n",
              "    </tr>\n",
              "    <tr>\n",
              "      <th>2</th>\n",
              "      <td>3</td>\n",
              "      <td>ALBERT PARDINI</td>\n",
              "      <td>CAPTAIN III (POLICE DEPARTMENT)</td>\n",
              "      <td>335279.91</td>\n",
              "      <td>335279.91</td>\n",
              "    </tr>\n",
              "    <tr>\n",
              "      <th>3</th>\n",
              "      <td>4</td>\n",
              "      <td>CHRISTOPHER CHONG</td>\n",
              "      <td>WIRE ROPE CABLE MAINTENANCE MECHANIC</td>\n",
              "      <td>332343.61</td>\n",
              "      <td>332343.61</td>\n",
              "    </tr>\n",
              "    <tr>\n",
              "      <th>4</th>\n",
              "      <td>5</td>\n",
              "      <td>PATRICK GARDNER</td>\n",
              "      <td>DEPUTY CHIEF OF DEPARTMENT,(FIRE DEPARTMENT)</td>\n",
              "      <td>326373.19</td>\n",
              "      <td>326373.19</td>\n",
              "    </tr>\n",
              "    <tr>\n",
              "      <th>...</th>\n",
              "      <td>...</td>\n",
              "      <td>...</td>\n",
              "      <td>...</td>\n",
              "      <td>...</td>\n",
              "      <td>...</td>\n",
              "    </tr>\n",
              "    <tr>\n",
              "      <th>148649</th>\n",
              "      <td>148650</td>\n",
              "      <td>Roy I Tillery</td>\n",
              "      <td>Custodian</td>\n",
              "      <td>0.00</td>\n",
              "      <td>0.00</td>\n",
              "    </tr>\n",
              "    <tr>\n",
              "      <th>148650</th>\n",
              "      <td>148651</td>\n",
              "      <td>Not provided</td>\n",
              "      <td>Not provided</td>\n",
              "      <td>0.00</td>\n",
              "      <td>0.00</td>\n",
              "    </tr>\n",
              "    <tr>\n",
              "      <th>148651</th>\n",
              "      <td>148652</td>\n",
              "      <td>Not provided</td>\n",
              "      <td>Not provided</td>\n",
              "      <td>0.00</td>\n",
              "      <td>0.00</td>\n",
              "    </tr>\n",
              "    <tr>\n",
              "      <th>148652</th>\n",
              "      <td>148653</td>\n",
              "      <td>Not provided</td>\n",
              "      <td>Not provided</td>\n",
              "      <td>0.00</td>\n",
              "      <td>0.00</td>\n",
              "    </tr>\n",
              "    <tr>\n",
              "      <th>148653</th>\n",
              "      <td>148654</td>\n",
              "      <td>Joe Lopez</td>\n",
              "      <td>Counselor, Log Cabin Ranch</td>\n",
              "      <td>-618.13</td>\n",
              "      <td>-618.13</td>\n",
              "    </tr>\n",
              "  </tbody>\n",
              "</table>\n",
              "<p>148654 rows × 5 columns</p>\n",
              "</div>"
            ],
            "text/plain": [
              "            Id       EmployeeName  \\\n",
              "0            1     NATHANIEL FORD   \n",
              "1            2       GARY JIMENEZ   \n",
              "2            3     ALBERT PARDINI   \n",
              "3            4  CHRISTOPHER CHONG   \n",
              "4            5    PATRICK GARDNER   \n",
              "...        ...                ...   \n",
              "148649  148650      Roy I Tillery   \n",
              "148650  148651       Not provided   \n",
              "148651  148652       Not provided   \n",
              "148652  148653       Not provided   \n",
              "148653  148654          Joe Lopez   \n",
              "\n",
              "                                              JobTitle   TotalPay  \\\n",
              "0       GENERAL MANAGER-METROPOLITAN TRANSIT AUTHORITY  567595.43   \n",
              "1                      CAPTAIN III (POLICE DEPARTMENT)  538909.28   \n",
              "2                      CAPTAIN III (POLICE DEPARTMENT)  335279.91   \n",
              "3                 WIRE ROPE CABLE MAINTENANCE MECHANIC  332343.61   \n",
              "4         DEPUTY CHIEF OF DEPARTMENT,(FIRE DEPARTMENT)  326373.19   \n",
              "...                                                ...        ...   \n",
              "148649                                       Custodian       0.00   \n",
              "148650                                    Not provided       0.00   \n",
              "148651                                    Not provided       0.00   \n",
              "148652                                    Not provided       0.00   \n",
              "148653                      Counselor, Log Cabin Ranch    -618.13   \n",
              "\n",
              "        TotalPayBenefits  \n",
              "0              567595.43  \n",
              "1              538909.28  \n",
              "2              335279.91  \n",
              "3              332343.61  \n",
              "4              326373.19  \n",
              "...                  ...  \n",
              "148649              0.00  \n",
              "148650              0.00  \n",
              "148651              0.00  \n",
              "148652              0.00  \n",
              "148653           -618.13  \n",
              "\n",
              "[148654 rows x 5 columns]"
            ]
          },
          "execution_count": 69,
          "metadata": {},
          "output_type": "execute_result"
        }
      ],
      "source": [
        "sal_new = df.iloc[:, [0,1,2,7,8]]\n",
        "sal_new\n",
        "\n"
      ]
    },
    {
      "cell_type": "markdown",
      "metadata": {
        "id": "veOjRZGU1jXc"
      },
      "source": [
        "Desired Output:\n",
        "\n",
        "![image.png](https://i.ibb.co/ZgFCbPm/assignment1e.png)"
      ]
    },
    {
      "cell_type": "markdown",
      "metadata": {
        "id": "IDfaMS0OAd_Z"
      },
      "source": [
        "### Take the columns betweeen EmployeeName and TotalPayBenefits with loc and assign them as sal_new df."
      ]
    },
    {
      "cell_type": "code",
      "execution_count": null,
      "metadata": {
        "id": "iXoiBJ8tAd_Z",
        "outputId": "5eb35950-8a0d-41c6-e806-1f496705b2ac"
      },
      "outputs": [
        {
          "data": {
            "text/html": [
              "<div>\n",
              "<style scoped>\n",
              "    .dataframe tbody tr th:only-of-type {\n",
              "        vertical-align: middle;\n",
              "    }\n",
              "\n",
              "    .dataframe tbody tr th {\n",
              "        vertical-align: top;\n",
              "    }\n",
              "\n",
              "    .dataframe thead th {\n",
              "        text-align: right;\n",
              "    }\n",
              "</style>\n",
              "<table border=\"1\" class=\"dataframe\">\n",
              "  <thead>\n",
              "    <tr style=\"text-align: right;\">\n",
              "      <th></th>\n",
              "      <th>EmployeeName</th>\n",
              "      <th>JobTitle</th>\n",
              "      <th>TotalPay</th>\n",
              "      <th>TotalPayBenefits</th>\n",
              "    </tr>\n",
              "  </thead>\n",
              "  <tbody>\n",
              "    <tr>\n",
              "      <th>0</th>\n",
              "      <td>NATHANIEL FORD</td>\n",
              "      <td>GENERAL MANAGER-METROPOLITAN TRANSIT AUTHORITY</td>\n",
              "      <td>567595.43</td>\n",
              "      <td>567595.43</td>\n",
              "    </tr>\n",
              "    <tr>\n",
              "      <th>1</th>\n",
              "      <td>GARY JIMENEZ</td>\n",
              "      <td>CAPTAIN III (POLICE DEPARTMENT)</td>\n",
              "      <td>538909.28</td>\n",
              "      <td>538909.28</td>\n",
              "    </tr>\n",
              "    <tr>\n",
              "      <th>2</th>\n",
              "      <td>ALBERT PARDINI</td>\n",
              "      <td>CAPTAIN III (POLICE DEPARTMENT)</td>\n",
              "      <td>335279.91</td>\n",
              "      <td>335279.91</td>\n",
              "    </tr>\n",
              "    <tr>\n",
              "      <th>3</th>\n",
              "      <td>CHRISTOPHER CHONG</td>\n",
              "      <td>WIRE ROPE CABLE MAINTENANCE MECHANIC</td>\n",
              "      <td>332343.61</td>\n",
              "      <td>332343.61</td>\n",
              "    </tr>\n",
              "    <tr>\n",
              "      <th>4</th>\n",
              "      <td>PATRICK GARDNER</td>\n",
              "      <td>DEPUTY CHIEF OF DEPARTMENT,(FIRE DEPARTMENT)</td>\n",
              "      <td>326373.19</td>\n",
              "      <td>326373.19</td>\n",
              "    </tr>\n",
              "    <tr>\n",
              "      <th>...</th>\n",
              "      <td>...</td>\n",
              "      <td>...</td>\n",
              "      <td>...</td>\n",
              "      <td>...</td>\n",
              "    </tr>\n",
              "    <tr>\n",
              "      <th>148649</th>\n",
              "      <td>Roy I Tillery</td>\n",
              "      <td>Custodian</td>\n",
              "      <td>0.00</td>\n",
              "      <td>0.00</td>\n",
              "    </tr>\n",
              "    <tr>\n",
              "      <th>148650</th>\n",
              "      <td>Not provided</td>\n",
              "      <td>Not provided</td>\n",
              "      <td>0.00</td>\n",
              "      <td>0.00</td>\n",
              "    </tr>\n",
              "    <tr>\n",
              "      <th>148651</th>\n",
              "      <td>Not provided</td>\n",
              "      <td>Not provided</td>\n",
              "      <td>0.00</td>\n",
              "      <td>0.00</td>\n",
              "    </tr>\n",
              "    <tr>\n",
              "      <th>148652</th>\n",
              "      <td>Not provided</td>\n",
              "      <td>Not provided</td>\n",
              "      <td>0.00</td>\n",
              "      <td>0.00</td>\n",
              "    </tr>\n",
              "    <tr>\n",
              "      <th>148653</th>\n",
              "      <td>Joe Lopez</td>\n",
              "      <td>Counselor, Log Cabin Ranch</td>\n",
              "      <td>-618.13</td>\n",
              "      <td>-618.13</td>\n",
              "    </tr>\n",
              "  </tbody>\n",
              "</table>\n",
              "<p>148654 rows × 4 columns</p>\n",
              "</div>"
            ],
            "text/plain": [
              "             EmployeeName                                        JobTitle  \\\n",
              "0          NATHANIEL FORD  GENERAL MANAGER-METROPOLITAN TRANSIT AUTHORITY   \n",
              "1            GARY JIMENEZ                 CAPTAIN III (POLICE DEPARTMENT)   \n",
              "2          ALBERT PARDINI                 CAPTAIN III (POLICE DEPARTMENT)   \n",
              "3       CHRISTOPHER CHONG            WIRE ROPE CABLE MAINTENANCE MECHANIC   \n",
              "4         PATRICK GARDNER    DEPUTY CHIEF OF DEPARTMENT,(FIRE DEPARTMENT)   \n",
              "...                   ...                                             ...   \n",
              "148649      Roy I Tillery                                       Custodian   \n",
              "148650       Not provided                                    Not provided   \n",
              "148651       Not provided                                    Not provided   \n",
              "148652       Not provided                                    Not provided   \n",
              "148653          Joe Lopez                      Counselor, Log Cabin Ranch   \n",
              "\n",
              "         TotalPay  TotalPayBenefits  \n",
              "0       567595.43         567595.43  \n",
              "1       538909.28         538909.28  \n",
              "2       335279.91         335279.91  \n",
              "3       332343.61         332343.61  \n",
              "4       326373.19         326373.19  \n",
              "...           ...               ...  \n",
              "148649       0.00              0.00  \n",
              "148650       0.00              0.00  \n",
              "148651       0.00              0.00  \n",
              "148652       0.00              0.00  \n",
              "148653    -618.13           -618.13  \n",
              "\n",
              "[148654 rows x 4 columns]"
            ]
          },
          "execution_count": 68,
          "metadata": {},
          "output_type": "execute_result"
        }
      ],
      "source": [
        "sal_new = df.loc[:, ['EmployeeName', 'JobTitle', 'TotalPay', 'TotalPayBenefits']]\n",
        "sal_new\n",
        "\n"
      ]
    },
    {
      "cell_type": "markdown",
      "metadata": {
        "id": "HFw_LJGq1jXd"
      },
      "source": [
        "Desired Output:\n",
        "\n",
        "![image.png](https://i.ibb.co/s2CYS7H/assignment1f.png)"
      ]
    },
    {
      "cell_type": "markdown",
      "metadata": {
        "id": "GLNh6jmxAd_a"
      },
      "source": [
        "### Print out the names of the employees who earn more than min but less than avg."
      ]
    },
    {
      "cell_type": "code",
      "execution_count": null,
      "metadata": {
        "id": "2lk1ZwS9Ad_a",
        "outputId": "f6144418-7e19-4cee-b0c1-8b4e776cbc17"
      },
      "outputs": [
        {
          "data": {
            "text/plain": [
              "10806            KWE LEE\n",
              "10807     MIGUEL CARO JR\n",
              "10808      JOANNE MORRIS\n",
              "10809      LAYLA WELBORN\n",
              "10810            LE BANH\n",
              "               ...      \n",
              "148648       Leon Walker\n",
              "148649     Roy I Tillery\n",
              "148650      Not provided\n",
              "148651      Not provided\n",
              "148652      Not provided\n",
              "Name: EmployeeName, Length: 75649, dtype: object"
            ]
          },
          "execution_count": 67,
          "metadata": {},
          "output_type": "execute_result"
        }
      ],
      "source": [
        "df['EmployeeName'][(df['TotalPayBenefits'] > df['TotalPayBenefits'].min()) &\n",
        "                   (df['TotalPayBenefits'] < df['TotalPayBenefits'].mean())]\n"
      ]
    },
    {
      "cell_type": "markdown",
      "metadata": {
        "id": "PnsdZjnnAd_a"
      },
      "source": [
        "Desired Output:\n",
        "\n",
        "![image.png](https://i.ibb.co/mtNB2TX/assignment1g.png)"
      ]
    },
    {
      "cell_type": "markdown",
      "metadata": {
        "id": "Hl0yRrKW1jXd"
      },
      "source": [
        "## <p style=\"background-color:#9d4f8c; font-family:newtimeroman; color:#FFF9ED; font-size:150%; text-align:center; border-radius:10px 10px;\">THE END OF THE ASSIGNMENT 02</p>\n",
        "\n",
        "# Now. it's time to relax!\n",
        "\n",
        "![Image_Assignment](https://i.ibb.co/jZD3Mqb/relaxing.jpg)\n",
        "\n",
        "<p style=\"text-align: center;\"><img src=\"https://i.ibb.co/99DQ3TY/DS-Courses.png\" class=\"img-fluid\"\n",
        "alt=\"CLRSWY\"></p>\n",
        "\n",
        "___\n",
        "\n",
        "<a href=\"https://clarusway.com/\"><img align=\"center\" src=\"https://i.ibb.co/Rpz9L36/clarusway-logo-black.png\" width=\"450\" height=\"200\" alt=\"CLRSWY_LOGO\" title=\"Way to Reinvent Yourself\"></a><br/>\n",
        "\n",
        "<p style=\"background-color:#E51A59; font-family:newtimeroman; color:#FDFEFE; font-size:130%; text-align:center; border-radius:10px 10px;\">WAY TO REINVENT YOURSELF</p>\n",
        "\n",
        "________"
      ]
    },
    {
      "cell_type": "markdown",
      "metadata": {
        "deletable": false,
        "editable": false,
        "id": "HFAiboH51jXd"
      },
      "source": [
        "<a href=\"https://clarusway.com/contact-us/\"><img align=\"center\" src=\"https://i.ibb.co/B43qn24/officially-licensed-logo.png\" alt=\"Open in Clarusway LMS\" width=\"110\" height=\"200\" title=\"This notebook is licensed by Clarusway IT training school. Please contact the authorized persons about the conditions under which you can use or share.\"></a>"
      ]
    }
  ],
  "metadata": {
    "anaconda-cloud": {},
    "colab": {
      "provenance": []
    },
    "kernelspec": {
      "display_name": "Python 3 (ipykernel)",
      "language": "python",
      "name": "python3"
    },
    "language_info": {
      "codemirror_mode": {
        "name": "ipython",
        "version": 3
      },
      "file_extension": ".py",
      "mimetype": "text/x-python",
      "name": "python",
      "nbconvert_exporter": "python",
      "pygments_lexer": "ipython3",
      "version": "3.11.7"
    },
    "toc": {
      "base_numbering": 1,
      "nav_menu": {},
      "number_sections": false,
      "sideBar": true,
      "skip_h1_title": false,
      "title_cell": "Table of Contents",
      "title_sidebar": "Contents",
      "toc_cell": false,
      "toc_position": {},
      "toc_section_display": true,
      "toc_window_display": true
    }
  },
  "nbformat": 4,
  "nbformat_minor": 0
}
